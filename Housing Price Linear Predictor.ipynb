{
 "cells": [
  {
   "cell_type": "markdown",
   "metadata": {},
   "source": [
    "# Housing Price Linear Predictor\n",
    "\n",
    "**Louis D. Baldioceda M.**"
   ]
  },
  {
   "cell_type": "markdown",
   "metadata": {},
   "source": [
    "# Index\n",
    "\n",
    "- [Abstract](#Abstract)\n",
    "- [1. Introduction](#1.-Introduction)\n",
    "- [2. The Data](#2.-The-Data)\n",
    "    - [2.1 Import the Data](#2.1-Import-the-Data)\n",
    "    - [2.2 Data Exploration](#2.2-Data-Exploration)\n",
    "    - [2.3 Data Preparation](#2.3-Data-Preparation)\n",
    "    - [2.4 Correlation](#2.4-Correlation)\n",
    "- [3. Project Description](#3.-Project-Description)\n",
    "    - [3.1 Linear Regression](#3.1-Linear-Regression)\n",
    "    - [3.2 Analysis](#3.2-Analysis)\n",
    "    - [3.3 Results](#3.3-Results)\n",
    "    - [3.4 Verify Your Model Against Test Data](#3.4-Verify-Your-Model-Against-Test-Data)\n",
    "- [Conclusion](#Conclusion)\n",
    "- [References](#References)"
   ]
  },
  {
   "cell_type": "markdown",
   "metadata": {},
   "source": [
    "[Back to top](#Index)\n",
    "\n",
    "\n",
    "##  Abstract\n",
    "\n",
    "This project utilized Python libraries to build a model for predicting residential property values. Leveraging a dataset of 80 features for 100 houses, the goal was to achieve an R-squared score exceeding 80%. The project explored data cleaning, feature engineering (including one-hot encoding for categorical features), and correlation analysis to identify key influencing factors.\r\n",
    "Multiple linear regression models were built and compared, with the best model achieving an R-squared score of 96.2%. This champion model incorporated top positive and negative correlations alongside one-hot encoded categorical variables. Notably, including categorical features yielded stronger correlations than solely using numeric variables.\r\n",
    "A crucial challenge involved selecting features with no missing values in the test data, as linear regression cannot handle them. This project demonstrates the potential of linear regression for accurate house price prediction, emphasizing the importance of data preparation and feature selection in achieving optimal results.\r\n"
   ]
  },
  {
   "cell_type": "markdown",
   "metadata": {},
   "source": [
    "[Back to top](#Index)\n",
    "\n",
    "\n",
    "## 1. Introduction\n",
    "\n",
    "The Housing Price Linear Predictor project harnesses the power of Python, scikit-learn, pandas, NumPy, matplotlib, and seaborn libraries to estimate residential property values. Leveraging a diverse dataset of 80 characteristics across 100 houses, the model aims for an accuracy exceeding 80% (R-squared > 0.8).\n",
    "\n",
    "Beyond price prediction, the project identifies vital factors influencing value and explains the model's inner workings.\n",
    "The journey begins with data exploration in Jupyter Notebook, followed by meticulous cleaning: removing near-constant features, addressing duplicates, and strategically imputing missing values. In feature engineering, the non-numerical features get transformed using one-hot encoding.\n",
    "\n",
    "Next, the project analyzes the price distribution and identifies potential linear relationships with other variables through scatter plots and correlation analysis.\n",
    "\n",
    "Finally, multiple linear regression models are built and compared, selecting the champion based on its performance. This champion model will be tested against unseen data to validate its real-world effectiveness.\n",
    "\n",
    "<div class=\"alert alert-block alert-success\">\n",
    "    This project not only predicts home values but also unveils key factors influencing them, offering valuable insights for buyers, sellers, and investors.\n",
    "</div>"
   ]
  },
  {
   "cell_type": "markdown",
   "metadata": {},
   "source": [
    "[Back to top](#Index)\n",
    "\n",
    "## 2. The Data"
   ]
  },
  {
   "cell_type": "markdown",
   "metadata": {},
   "source": [
    "[Back to top](#Index)\n",
    "\n",
    "### 2.1 Import the Data\n",
    "\n",
    "Start by importing the libraries and dataset in Python to retrieve preliminary information and get a sense of available information to make the prediction. *info* lists all columns with their type, including the number of rows and columns, and *head* provides a view of the top rows.\n",
    "\n",
    "**Description of Main Data**\n",
    "\n",
    "The following table describes the top 10 independent variables identified later in the process.\n",
    "\n",
    "\n",
    "<table align='left'>\n",
    "<tr> <th style=\"text-align: left\">Variable<th style=\"text-align: left\">Description\n",
    "<tr> <td>\n",
    "<tr> <td style=\"text-align: left\">SalePrice<td style=\"text-align: left\">House's market value in US dollars (variable output)\n",
    "<tr> <td style=\"text-align: left\">OverallQual<td style=\"text-align: left\">Rates the overall material and finish of the house\n",
    "<tr> <td style=\"text-align: left\">GrLivArea<td style=\"text-align: left\">Above grade (ground) living area square feet\n",
    "<tr> <td style=\"text-align: left\">GarageArea<td style=\"text-align: left\">Size of garage in square feet\n",
    "<tr> <td style=\"text-align: left\">GarageCars<td style=\"text-align: left\">Size of garage in car capacity\n",
    "<tr> <td style=\"text-align: left\">YearBuilt<td style=\"text-align: left\">Original construction date\n",
    "<tr> <td style=\"text-align: left\">TotalBsmtSF<td style=\"text-align: left\">Total square feet of basement area\n",
    "<tr> <td style=\"text-align: left\">GarageYrBlt<td style=\"text-align: left\">Year garage was built\n",
    "<tr> <td style=\"text-align: left\">FullBath<td style=\"text-align: left\">Basement full bathrooms\n",
    "<tr> <td style=\"text-align: left\">MasVnrArea<td style=\"text-align: left\">Masonry veneer area in square feet\n",
    "<tr> <td style=\"text-align: left\">TotRmsAbvGrd<td style=\"text-align: left\">Total rooms above grade (does not include bathrooms)\n",
    "</table>"
   ]
  },
  {
   "cell_type": "markdown",
   "metadata": {},
   "source": [
    "<details>\n",
    "  <summary>Show all descriptions:</summary>\n",
    "  <p>\n",
    "MSSubClass: Identifies the type of dwelling involved in the sale.\t\n",
    "\n",
    "        20\t1-STORY 1946 & NEWER ALL STYLES\n",
    "        30\t1-STORY 1945 & OLDER\n",
    "        40\t1-STORY W/FINISHED ATTIC ALL AGES\n",
    "        45\t1-1/2 STORY - UNFINISHED ALL AGES\n",
    "        50\t1-1/2 STORY FINISHED ALL AGES\n",
    "        60\t2-STORY 1946 & NEWER\n",
    "        70\t2-STORY 1945 & OLDER\n",
    "        75\t2-1/2 STORY ALL AGES\n",
    "        80\tSPLIT OR MULTI-LEVEL\n",
    "        85\tSPLIT FOYER\n",
    "        90\tDUPLEX - ALL STYLES AND AGES\n",
    "       120\t1-STORY PUD (Planned Unit Development) - 1946 & NEWER\n",
    "       150\t1-1/2 STORY PUD - ALL AGES\n",
    "       160\t2-STORY PUD - 1946 & NEWER\n",
    "       180\tPUD - MULTILEVEL - INCL SPLIT LEV/FOYER\n",
    "       190\t2 FAMILY CONVERSION - ALL STYLES AND AGES\n",
    "\n",
    "MSZoning: Identifies the general zoning classification of the sale.\n",
    "\t\t\n",
    "       A\tAgriculture\n",
    "       C\tCommercial\n",
    "       FV\tFloating Village Residential\n",
    "       I\tIndustrial\n",
    "       RH\tResidential High Density\n",
    "       RL\tResidential Low Density\n",
    "       RP\tResidential Low Density Park \n",
    "       RM\tResidential Medium Density\n",
    "\t\n",
    "LotFrontage: Linear feet of street connected to property\n",
    "\n",
    "LotArea: Lot size in square feet\n",
    "\n",
    "Street: Type of road access to property\n",
    "\n",
    "       Grvl\tGravel\t\n",
    "       Pave\tPaved\n",
    "       \t\n",
    "Alley: Type of alley access to property\n",
    "\n",
    "       Grvl\tGravel\n",
    "       Pave\tPaved\n",
    "       NA \tNo alley access\n",
    "\t\t\n",
    "LotShape: General shape of property\n",
    "\n",
    "       Reg\tRegular\t\n",
    "       IR1\tSlightly irregular\n",
    "       IR2\tModerately Irregular\n",
    "       IR3\tIrregular\n",
    "       \n",
    "LandContour: Flatness of the property\n",
    "\n",
    "       Lvl\tNear Flat/Level\t\n",
    "       Bnk\tBanked - Quick and significant rise from street grade to building\n",
    "       HLS\tHillside - Significant slope from side to side\n",
    "       Low\tDepression\n",
    "\t\t\n",
    "Utilities: Type of utilities available\n",
    "\t\t\n",
    "       AllPub\tAll public Utilities (E,G,W,& S)\t\n",
    "       NoSewr\tElectricity, Gas, and Water (Septic Tank)\n",
    "       NoSeWa\tElectricity and Gas Only\n",
    "       ELO\tElectricity only\t\n",
    "\t\n",
    "LotConfig: Lot configuration\n",
    "\n",
    "       Inside\tInside lot\n",
    "       Corner\tCorner lot\n",
    "       CulDSac\tCul-de-sac\n",
    "       FR2\tFrontage on 2 sides of property\n",
    "       FR3\tFrontage on 3 sides of property\n",
    "\t\n",
    "LandSlope: Slope of property\n",
    "\t\t\n",
    "       Gtl\tGentle slope\n",
    "       Mod\tModerate Slope\t\n",
    "       Sev\tSevere Slope\n",
    "\t\n",
    "Neighborhood: Physical locations within Ames city limits\n",
    "\n",
    "       Blmngtn\tBloomington Heights\n",
    "       Blueste\tBluestem\n",
    "       BrDale\tBriardale\n",
    "       BrkSide\tBrookside\n",
    "       ClearCr\tClear Creek\n",
    "       CollgCr\tCollege Creek\n",
    "       Crawfor\tCrawford\n",
    "       Edwards\tEdwards\n",
    "       Gilbert\tGilbert\n",
    "       IDOTRR\tIowa DOT and Rail Road\n",
    "       MeadowV\tMeadow Village\n",
    "       Mitchel\tMitchell\n",
    "       Names\tNorth Ames\n",
    "       NoRidge\tNorthridge\n",
    "       NPkVill\tNorthpark Villa\n",
    "       NridgHt\tNorthridge Heights\n",
    "       NWAmes\tNorthwest Ames\n",
    "       OldTown\tOld Town\n",
    "       SWISU\tSouth & West of Iowa State University\n",
    "       Sawyer\tSawyer\n",
    "       SawyerW\tSawyer West\n",
    "       Somerst\tSomerset\n",
    "       StoneBr\tStone Brook\n",
    "       Timber\tTimberland\n",
    "       Veenker\tVeenker\n",
    "\t\t\t\n",
    "Condition1: Proximity to various conditions\n",
    "\t\n",
    "       Artery\tAdjacent to arterial street\n",
    "       Feedr\tAdjacent to feeder street\t\n",
    "       Norm\tNormal\t\n",
    "       RRNn\tWithin 200' of North-South Railroad\n",
    "       RRAn\tAdjacent to North-South Railroad\n",
    "       PosN\tNear positive off-site feature--park, greenbelt, etc.\n",
    "       PosA\tAdjacent to postive off-site feature\n",
    "       RRNe\tWithin 200' of East-West Railroad\n",
    "       RRAe\tAdjacent to East-West Railroad\n",
    "\t\n",
    "Condition2: Proximity to various conditions (if more than one is present)\n",
    "\t\t\n",
    "       Artery\tAdjacent to arterial street\n",
    "       Feedr\tAdjacent to feeder street\t\n",
    "       Norm\tNormal\t\n",
    "       RRNn\tWithin 200' of North-South Railroad\n",
    "       RRAn\tAdjacent to North-South Railroad\n",
    "       PosN\tNear positive off-site feature--park, greenbelt, etc.\n",
    "       PosA\tAdjacent to postive off-site feature\n",
    "       RRNe\tWithin 200' of East-West Railroad\n",
    "       RRAe\tAdjacent to East-West Railroad\n",
    "\t\n",
    "BldgType: Type of dwelling\n",
    "\t\t\n",
    "       1Fam\tSingle-family Detached\t\n",
    "       2FmCon\tTwo-family Conversion; originally built as one-family dwelling\n",
    "       Duplx\tDuplex\n",
    "       TwnhsE\tTownhouse End Unit\n",
    "       TwnhsI\tTownhouse Inside Unit\n",
    "\t\n",
    "HouseStyle: Style of dwelling\n",
    "\t\n",
    "       1Story\tOne story\n",
    "       1.5Fin\tOne and one-half story: 2nd level finished\n",
    "       1.5Unf\tOne and one-half story: 2nd level unfinished\n",
    "       2Story\tTwo story\n",
    "       2.5Fin\tTwo and one-half story: 2nd level finished\n",
    "       2.5Unf\tTwo and one-half story: 2nd level unfinished\n",
    "       SFoyer\tSplit Foyer\n",
    "       SLvl\tSplit Level\n",
    "\t\n",
    "OverallQual: Rates the overall material and finish of the house\n",
    "\n",
    "       10\tVery Excellent\n",
    "       9\tExcellent\n",
    "       8\tVery Good\n",
    "       7\tGood\n",
    "       6\tAbove Average\n",
    "       5\tAverage\n",
    "       4\tBelow Average\n",
    "       3\tFair\n",
    "       2\tPoor\n",
    "       1\tVery Poor\n",
    "\t\n",
    "OverallCond: Rates the overall condition of the house\n",
    "\n",
    "       10\tVery Excellent\n",
    "       9\tExcellent\n",
    "       8\tVery Good\n",
    "       7\tGood\n",
    "       6\tAbove Average\t\n",
    "       5\tAverage\n",
    "       4\tBelow Average\t\n",
    "       3\tFair\n",
    "       2\tPoor\n",
    "       1\tVery Poor\n",
    "\t\t\n",
    "YearBuilt: Original construction date\n",
    "\n",
    "YearRemodAdd: Remodel date (same as construction date if no remodeling or additions)\n",
    "\n",
    "RoofStyle: Type of roof\n",
    "\n",
    "       Flat\tFlat\n",
    "       Gable\tGable\n",
    "       Gambrel\tGabrel (Barn)\n",
    "       Hip\tHip\n",
    "       Mansard\tMansard\n",
    "       Shed\tShed\n",
    "\t\t\n",
    "RoofMatl: Roof material\n",
    "\n",
    "       ClyTile\tClay or Tile\n",
    "       CompShg\tStandard (Composite) Shingle\n",
    "       Membran\tMembrane\n",
    "       Metal\tMetal\n",
    "       Roll\tRoll\n",
    "       Tar&Grv\tGravel & Tar\n",
    "       WdShake\tWood Shakes\n",
    "       WdShngl\tWood Shingles\n",
    "\t\t\n",
    "Exterior1st: Exterior covering on house\n",
    "\n",
    "       AsbShng\tAsbestos Shingles\n",
    "       AsphShn\tAsphalt Shingles\n",
    "       BrkComm\tBrick Common\n",
    "       BrkFace\tBrick Face\n",
    "       CBlock\tCinder Block\n",
    "       CemntBd\tCement Board\n",
    "       HdBoard\tHard Board\n",
    "       ImStucc\tImitation Stucco\n",
    "       MetalSd\tMetal Siding\n",
    "       Other\tOther\n",
    "       Plywood\tPlywood\n",
    "       PreCast\tPreCast\t\n",
    "       Stone\tStone\n",
    "       Stucco\tStucco\n",
    "       VinylSd\tVinyl Siding\n",
    "       Wd Sdng\tWood Siding\n",
    "       WdShing\tWood Shingles\n",
    "\t\n",
    "Exterior2nd: Exterior covering on house (if more than one material)\n",
    "\n",
    "       AsbShng\tAsbestos Shingles\n",
    "       AsphShn\tAsphalt Shingles\n",
    "       BrkComm\tBrick Common\n",
    "       BrkFace\tBrick Face\n",
    "       CBlock\tCinder Block\n",
    "       CemntBd\tCement Board\n",
    "       HdBoard\tHard Board\n",
    "       ImStucc\tImitation Stucco\n",
    "       MetalSd\tMetal Siding\n",
    "       Other\tOther\n",
    "       Plywood\tPlywood\n",
    "       PreCast\tPreCast\n",
    "       Stone\tStone\n",
    "       Stucco\tStucco\n",
    "       VinylSd\tVinyl Siding\n",
    "       Wd Sdng\tWood Siding\n",
    "       WdShing\tWood Shingles\n",
    "\t\n",
    "MasVnrType: Masonry veneer type\n",
    "\n",
    "       BrkCmn\tBrick Common\n",
    "       BrkFace\tBrick Face\n",
    "       CBlock\tCinder Block\n",
    "       None\tNone\n",
    "       Stone\tStone\n",
    "\t\n",
    "MasVnrArea: Masonry veneer area in square feet\n",
    "\n",
    "ExterQual: Evaluates the quality of the material on the exterior \n",
    "\t\t\n",
    "       Ex\tExcellent\n",
    "       Gd\tGood\n",
    "       TA\tAverage/Typical\n",
    "       Fa\tFair\n",
    "       Po\tPoor\n",
    "\t\t\n",
    "ExterCond: Evaluates the present condition of the material on the exterior\n",
    "\t\t\n",
    "       Ex\tExcellent\n",
    "       Gd\tGood\n",
    "       TA\tAverage/Typical\n",
    "       Fa\tFair\n",
    "       Po\tPoor\n",
    "\t\t\n",
    "Foundation: Type of foundation\n",
    "\t\t\n",
    "       BrkTil\tBrick & Tile\n",
    "       CBlock\tCinder Block\n",
    "       PConc\tPoured Contrete\t\n",
    "       Slab\tSlab\n",
    "       Stone\tStone\n",
    "       Wood\tWood\n",
    "\t\t\n",
    "BsmtQual: Evaluates the height of the basement\n",
    "\n",
    "       Ex\tExcellent (100+ inches)\t\n",
    "       Gd\tGood (90-99 inches)\n",
    "       TA\tTypical (80-89 inches)\n",
    "       Fa\tFair (70-79 inches)\n",
    "       Po\tPoor (<70 inches\n",
    "       NA\tNo Basement\n",
    "\t\t\n",
    "BsmtCond: Evaluates the general condition of the basement\n",
    "\n",
    "       Ex\tExcellent\n",
    "       Gd\tGood\n",
    "       TA\tTypical - slight dampness allowed\n",
    "       Fa\tFair - dampness or some cracking or settling\n",
    "       Po\tPoor - Severe cracking, settling, or wetness\n",
    "       NA\tNo Basement\n",
    "\t\n",
    "BsmtExposure: Refers to walkout or garden level walls\n",
    "\n",
    "       Gd\tGood Exposure\n",
    "       Av\tAverage Exposure (split levels or foyers typically score average or above)\t\n",
    "       Mn\tMimimum Exposure\n",
    "       No\tNo Exposure\n",
    "       NA\tNo Basement\n",
    "\t\n",
    "BsmtFinType1: Rating of basement finished area\n",
    "\n",
    "       GLQ\tGood Living Quarters\n",
    "       ALQ\tAverage Living Quarters\n",
    "       BLQ\tBelow Average Living Quarters\t\n",
    "       Rec\tAverage Rec Room\n",
    "       LwQ\tLow Quality\n",
    "       Unf\tUnfinshed\n",
    "       NA\tNo Basement\n",
    "\t\t\n",
    "BsmtFinSF1: Type 1 finished square feet\n",
    "\n",
    "BsmtFinType2: Rating of basement finished area (if multiple types)\n",
    "\n",
    "       GLQ\tGood Living Quarters\n",
    "       ALQ\tAverage Living Quarters\n",
    "       BLQ\tBelow Average Living Quarters\t\n",
    "       Rec\tAverage Rec Room\n",
    "       LwQ\tLow Quality\n",
    "       Unf\tUnfinshed\n",
    "       NA\tNo Basement\n",
    "\n",
    "BsmtFinSF2: Type 2 finished square feet\n",
    "\n",
    "BsmtUnfSF: Unfinished square feet of basement area\n",
    "\n",
    "TotalBsmtSF: Total square feet of basement area\n",
    "\n",
    "Heating: Type of heating\n",
    "\t\t\n",
    "       Floor\tFloor Furnace\n",
    "       GasA\tGas forced warm air furnace\n",
    "       GasW\tGas hot water or steam heat\n",
    "       Grav\tGravity furnace\t\n",
    "       OthW\tHot water or steam heat other than gas\n",
    "       Wall\tWall furnace\n",
    "\t\t\n",
    "HeatingQC: Heating quality and condition\n",
    "\n",
    "       Ex\tExcellent\n",
    "       Gd\tGood\n",
    "       TA\tAverage/Typical\n",
    "       Fa\tFair\n",
    "       Po\tPoor\n",
    "\t\t\n",
    "CentralAir: Central air conditioning\n",
    "\n",
    "       N\tNo\n",
    "       Y\tYes\n",
    "\t\t\n",
    "Electrical: Electrical system\n",
    "\n",
    "       SBrkr\tStandard Circuit Breakers & Romex\n",
    "       FuseA\tFuse Box over 60 AMP and all Romex wiring (Average)\t\n",
    "       FuseF\t60 AMP Fuse Box and mostly Romex wiring (Fair)\n",
    "       FuseP\t60 AMP Fuse Box and mostly knob & tube wiring (poor)\n",
    "       Mix\tMixed\n",
    "\t\t\n",
    "1stFlrSF: First Floor square feet\n",
    " \n",
    "2ndFlrSF: Second floor square feet\n",
    "\n",
    "LowQualFinSF: Low quality finished square feet (all floors)\n",
    "\n",
    "GrLivArea: Above grade (ground) living area square feet\n",
    "\n",
    "BsmtFullBath: Basement full bathrooms\n",
    "\n",
    "BsmtHalfBath: Basement half bathrooms\n",
    "\n",
    "FullBath: Full bathrooms above grade\n",
    "\n",
    "HalfBath: Half baths above grade\n",
    "\n",
    "Bedroom: Bedrooms above grade (does NOT include basement bedrooms)\n",
    "\n",
    "Kitchen: Kitchens above grade\n",
    "\n",
    "KitchenQual: Kitchen quality\n",
    "\n",
    "       Ex\tExcellent\n",
    "       Gd\tGood\n",
    "       TA\tTypical/Average\n",
    "       Fa\tFair\n",
    "       Po\tPoor\n",
    "       \t\n",
    "TotRmsAbvGrd: Total rooms above grade (does not include bathrooms)\n",
    "\n",
    "Functional: Home functionality (Assume typical unless deductions are warranted)\n",
    "\n",
    "       Typ\tTypical Functionality\n",
    "       Min1\tMinor Deductions 1\n",
    "       Min2\tMinor Deductions 2\n",
    "       Mod\tModerate Deductions\n",
    "       Maj1\tMajor Deductions 1\n",
    "       Maj2\tMajor Deductions 2\n",
    "       Sev\tSeverely Damaged\n",
    "       Sal\tSalvage only\n",
    "\t\t\n",
    "Fireplaces: Number of fireplaces\n",
    "\n",
    "FireplaceQu: Fireplace quality\n",
    "\n",
    "       Ex\tExcellent - Exceptional Masonry Fireplace\n",
    "       Gd\tGood - Masonry Fireplace in main level\n",
    "       TA\tAverage - Prefabricated Fireplace in main living area or Masonry Fireplace in basement\n",
    "       Fa\tFair - Prefabricated Fireplace in basement\n",
    "       Po\tPoor - Ben Franklin Stove\n",
    "       NA\tNo Fireplace\n",
    "\t\t\n",
    "GarageType: Garage location\n",
    "\t\t\n",
    "       2Types\tMore than one type of garage\n",
    "       Attchd\tAttached to home\n",
    "       Basment\tBasement Garage\n",
    "       BuiltIn\tBuilt-In (Garage part of house - typically has room above garage)\n",
    "       CarPort\tCar Port\n",
    "       Detchd\tDetached from home\n",
    "       NA\tNo Garage\n",
    "\t\t\n",
    "GarageYrBlt: Year garage was built\n",
    "\t\t\n",
    "GarageFinish: Interior finish of the garage\n",
    "\n",
    "       Fin\tFinished\n",
    "       RFn\tRough Finished\t\n",
    "       Unf\tUnfinished\n",
    "       NA\tNo Garage\n",
    "\t\t\n",
    "GarageCars: Size of garage in car capacity\n",
    "\n",
    "GarageArea: Size of garage in square feet\n",
    "\n",
    "GarageQual: Garage quality\n",
    "\n",
    "       Ex\tExcellent\n",
    "       Gd\tGood\n",
    "       TA\tTypical/Average\n",
    "       Fa\tFair\n",
    "       Po\tPoor\n",
    "       NA\tNo Garage\n",
    "\t\t\n",
    "GarageCond: Garage condition\n",
    "\n",
    "       Ex\tExcellent\n",
    "       Gd\tGood\n",
    "       TA\tTypical/Average\n",
    "       Fa\tFair\n",
    "       Po\tPoor\n",
    "       NA\tNo Garage\n",
    "\t\t\n",
    "PavedDrive: Paved driveway\n",
    "\n",
    "       Y\tPaved \n",
    "       P\tPartial Pavement\n",
    "       N\tDirt/Gravel\n",
    "\t\t\n",
    "WoodDeckSF: Wood deck area in square feet\n",
    "\n",
    "OpenPorchSF: Open porch area in square feet\n",
    "\n",
    "EnclosedPorch: Enclosed porch area in square feet\n",
    "\n",
    "3SsnPorch: Three season porch area in square feet\n",
    "\n",
    "ScreenPorch: Screen porch area in square feet\n",
    "\n",
    "PoolArea: Pool area in square feet\n",
    "\n",
    "PoolQC: Pool quality\n",
    "\t\t\n",
    "       Ex\tExcellent\n",
    "       Gd\tGood\n",
    "       TA\tAverage/Typical\n",
    "       Fa\tFair\n",
    "       NA\tNo Pool\n",
    "\t\t\n",
    "Fence: Fence quality\n",
    "\t\t\n",
    "       GdPrv\tGood Privacy\n",
    "       MnPrv\tMinimum Privacy\n",
    "       GdWo\tGood Wood\n",
    "       MnWw\tMinimum Wood/Wire\n",
    "       NA\tNo Fence\n",
    "\t\n",
    "MiscFeature: Miscellaneous feature not covered in other categories\n",
    "\t\t\n",
    "       Elev\tElevator\n",
    "       Gar2\t2nd Garage (if not described in garage section)\n",
    "       Othr\tOther\n",
    "       Shed\tShed (over 100 SF)\n",
    "       TenC\tTennis Court\n",
    "       NA\tNone\n",
    "\t\t\n",
    "MiscVal: $Value of miscellaneous feature\n",
    "\n",
    "MoSold: Month Sold (MM)\n",
    "\n",
    "YrSold: Year Sold (YYYY)\n",
    "\n",
    "SaleType: Type of sale\n",
    "\t\t\n",
    "       WD \tWarranty Deed - Conventional\n",
    "       CWD\tWarranty Deed - Cash\n",
    "       VWD\tWarranty Deed - VA Loan\n",
    "       New\tHome just constructed and sold\n",
    "       COD\tCourt Officer Deed/Estate\n",
    "       Con\tContract 15% Down payment regular terms\n",
    "       ConLw\tContract Low Down payment and low interest\n",
    "       ConLI\tContract Low Interest\n",
    "       ConLD\tContract Low Down\n",
    "       Oth\tOther\n",
    "\t\t\n",
    "SaleCondition: Condition of sale\n",
    "\n",
    "       Normal\tNormal Sale\n",
    "       Abnorml\tAbnormal Sale -  trade, foreclosure, short sale\n",
    "       AdjLand\tAdjoining Land Purchase\n",
    "       Alloca\tAllocation - two linked properties with separate deeds, typically condo with a garage unit\t\n",
    "       Family\tSale between family members\n",
    "       Partial\tHome was not completed when last assessed (associated with New Homes)\n",
    "</p>\n",
    "</details>"
   ]
  },
  {
   "cell_type": "code",
   "execution_count": 1,
   "metadata": {
    "scrolled": true
   },
   "outputs": [
    {
     "name": "stdout",
     "output_type": "stream",
     "text": [
      "<class 'pandas.core.frame.DataFrame'>\n",
      "RangeIndex: 100 entries, 0 to 99\n",
      "Data columns (total 82 columns):\n",
      " #   Column         Non-Null Count  Dtype  \n",
      "---  ------         --------------  -----  \n",
      " 0   Unnamed: 0     100 non-null    int64  \n",
      " 1   Id             100 non-null    int64  \n",
      " 2   MSSubClass     100 non-null    int64  \n",
      " 3   MSZoning       100 non-null    object \n",
      " 4   LotFrontage    86 non-null     float64\n",
      " 5   LotArea        100 non-null    int64  \n",
      " 6   Street         100 non-null    object \n",
      " 7   Alley          6 non-null      object \n",
      " 8   LotShape       100 non-null    object \n",
      " 9   LandContour    100 non-null    object \n",
      " 10  Utilities      100 non-null    object \n",
      " 11  LotConfig      100 non-null    object \n",
      " 12  LandSlope      100 non-null    object \n",
      " 13  Neighborhood   100 non-null    object \n",
      " 14  Condition1     100 non-null    object \n",
      " 15  Condition2     100 non-null    object \n",
      " 16  BldgType       100 non-null    object \n",
      " 17  HouseStyle     100 non-null    object \n",
      " 18  OverallQual    100 non-null    int64  \n",
      " 19  OverallCond    100 non-null    int64  \n",
      " 20  YearBuilt      100 non-null    int64  \n",
      " 21  YearRemodAdd   100 non-null    int64  \n",
      " 22  RoofStyle      100 non-null    object \n",
      " 23  RoofMatl       100 non-null    object \n",
      " 24  Exterior1st    100 non-null    object \n",
      " 25  Exterior2nd    100 non-null    object \n",
      " 26  MasVnrType     40 non-null     object \n",
      " 27  MasVnrArea     100 non-null    float64\n",
      " 28  ExterQual      100 non-null    object \n",
      " 29  ExterCond      100 non-null    object \n",
      " 30  Foundation     100 non-null    object \n",
      " 31  BsmtQual       97 non-null     object \n",
      " 32  BsmtCond       97 non-null     object \n",
      " 33  BsmtExposure   97 non-null     object \n",
      " 34  BsmtFinType1   97 non-null     object \n",
      " 35  BsmtFinSF1     100 non-null    int64  \n",
      " 36  BsmtFinType2   97 non-null     object \n",
      " 37  BsmtFinSF2     100 non-null    int64  \n",
      " 38  BsmtUnfSF      100 non-null    int64  \n",
      " 39  TotalBsmtSF    100 non-null    int64  \n",
      " 40  Heating        100 non-null    object \n",
      " 41  HeatingQC      100 non-null    object \n",
      " 42  CentralAir     100 non-null    object \n",
      " 43  Electrical     100 non-null    object \n",
      " 44  1stFlrSF       100 non-null    int64  \n",
      " 45  2ndFlrSF       100 non-null    int64  \n",
      " 46  LowQualFinSF   100 non-null    int64  \n",
      " 47  GrLivArea      100 non-null    int64  \n",
      " 48  BsmtFullBath   100 non-null    int64  \n",
      " 49  BsmtHalfBath   100 non-null    int64  \n",
      " 50  FullBath       100 non-null    int64  \n",
      " 51  HalfBath       100 non-null    int64  \n",
      " 52  BedroomAbvGr   100 non-null    int64  \n",
      " 53  KitchenAbvGr   100 non-null    int64  \n",
      " 54  KitchenQual    100 non-null    object \n",
      " 55  TotRmsAbvGrd   100 non-null    int64  \n",
      " 56  Functional     100 non-null    object \n",
      " 57  Fireplaces     100 non-null    int64  \n",
      " 58  FireplaceQu    46 non-null     object \n",
      " 59  GarageType     94 non-null     object \n",
      " 60  GarageYrBlt    94 non-null     float64\n",
      " 61  GarageFinish   94 non-null     object \n",
      " 62  GarageCars     100 non-null    int64  \n",
      " 63  GarageArea     100 non-null    int64  \n",
      " 64  GarageQual     94 non-null     object \n",
      " 65  GarageCond     94 non-null     object \n",
      " 66  PavedDrive     100 non-null    object \n",
      " 67  WoodDeckSF     100 non-null    int64  \n",
      " 68  OpenPorchSF    100 non-null    int64  \n",
      " 69  EnclosedPorch  100 non-null    int64  \n",
      " 70  3SsnPorch      100 non-null    int64  \n",
      " 71  ScreenPorch    100 non-null    int64  \n",
      " 72  PoolArea       100 non-null    int64  \n",
      " 73  PoolQC         0 non-null      float64\n",
      " 74  Fence          23 non-null     object \n",
      " 75  MiscFeature    9 non-null      object \n",
      " 76  MiscVal        100 non-null    int64  \n",
      " 77  MoSold         100 non-null    int64  \n",
      " 78  YrSold         100 non-null    int64  \n",
      " 79  SaleType       100 non-null    object \n",
      " 80  SaleCondition  100 non-null    object \n",
      " 81  SalePrice      100 non-null    int64  \n",
      "dtypes: float64(4), int64(36), object(42)\n",
      "memory usage: 64.2+ KB\n"
     ]
    },
    {
     "data": {
      "text/html": [
       "<div>\n",
       "<style scoped>\n",
       "    .dataframe tbody tr th:only-of-type {\n",
       "        vertical-align: middle;\n",
       "    }\n",
       "\n",
       "    .dataframe tbody tr th {\n",
       "        vertical-align: top;\n",
       "    }\n",
       "\n",
       "    .dataframe thead th {\n",
       "        text-align: right;\n",
       "    }\n",
       "</style>\n",
       "<table border=\"1\" class=\"dataframe\">\n",
       "  <thead>\n",
       "    <tr style=\"text-align: right;\">\n",
       "      <th></th>\n",
       "      <th>Unnamed: 0</th>\n",
       "      <th>Id</th>\n",
       "      <th>MSSubClass</th>\n",
       "      <th>MSZoning</th>\n",
       "      <th>LotFrontage</th>\n",
       "      <th>LotArea</th>\n",
       "      <th>Street</th>\n",
       "      <th>Alley</th>\n",
       "      <th>LotShape</th>\n",
       "      <th>LandContour</th>\n",
       "      <th>...</th>\n",
       "      <th>PoolArea</th>\n",
       "      <th>PoolQC</th>\n",
       "      <th>Fence</th>\n",
       "      <th>MiscFeature</th>\n",
       "      <th>MiscVal</th>\n",
       "      <th>MoSold</th>\n",
       "      <th>YrSold</th>\n",
       "      <th>SaleType</th>\n",
       "      <th>SaleCondition</th>\n",
       "      <th>SalePrice</th>\n",
       "    </tr>\n",
       "  </thead>\n",
       "  <tbody>\n",
       "    <tr>\n",
       "      <th>0</th>\n",
       "      <td>0</td>\n",
       "      <td>1</td>\n",
       "      <td>60</td>\n",
       "      <td>RL</td>\n",
       "      <td>65.0</td>\n",
       "      <td>8450</td>\n",
       "      <td>Pave</td>\n",
       "      <td>NaN</td>\n",
       "      <td>Reg</td>\n",
       "      <td>Lvl</td>\n",
       "      <td>...</td>\n",
       "      <td>0</td>\n",
       "      <td>NaN</td>\n",
       "      <td>NaN</td>\n",
       "      <td>NaN</td>\n",
       "      <td>0</td>\n",
       "      <td>2</td>\n",
       "      <td>2008</td>\n",
       "      <td>WD</td>\n",
       "      <td>Normal</td>\n",
       "      <td>208500</td>\n",
       "    </tr>\n",
       "    <tr>\n",
       "      <th>1</th>\n",
       "      <td>1</td>\n",
       "      <td>2</td>\n",
       "      <td>20</td>\n",
       "      <td>RL</td>\n",
       "      <td>80.0</td>\n",
       "      <td>9600</td>\n",
       "      <td>Pave</td>\n",
       "      <td>NaN</td>\n",
       "      <td>Reg</td>\n",
       "      <td>Lvl</td>\n",
       "      <td>...</td>\n",
       "      <td>0</td>\n",
       "      <td>NaN</td>\n",
       "      <td>NaN</td>\n",
       "      <td>NaN</td>\n",
       "      <td>0</td>\n",
       "      <td>5</td>\n",
       "      <td>2007</td>\n",
       "      <td>WD</td>\n",
       "      <td>Normal</td>\n",
       "      <td>181500</td>\n",
       "    </tr>\n",
       "    <tr>\n",
       "      <th>2</th>\n",
       "      <td>2</td>\n",
       "      <td>3</td>\n",
       "      <td>60</td>\n",
       "      <td>RL</td>\n",
       "      <td>68.0</td>\n",
       "      <td>11250</td>\n",
       "      <td>Pave</td>\n",
       "      <td>NaN</td>\n",
       "      <td>IR1</td>\n",
       "      <td>Lvl</td>\n",
       "      <td>...</td>\n",
       "      <td>0</td>\n",
       "      <td>NaN</td>\n",
       "      <td>NaN</td>\n",
       "      <td>NaN</td>\n",
       "      <td>0</td>\n",
       "      <td>9</td>\n",
       "      <td>2008</td>\n",
       "      <td>WD</td>\n",
       "      <td>Normal</td>\n",
       "      <td>223500</td>\n",
       "    </tr>\n",
       "    <tr>\n",
       "      <th>3</th>\n",
       "      <td>3</td>\n",
       "      <td>4</td>\n",
       "      <td>70</td>\n",
       "      <td>RL</td>\n",
       "      <td>60.0</td>\n",
       "      <td>9550</td>\n",
       "      <td>Pave</td>\n",
       "      <td>NaN</td>\n",
       "      <td>IR1</td>\n",
       "      <td>Lvl</td>\n",
       "      <td>...</td>\n",
       "      <td>0</td>\n",
       "      <td>NaN</td>\n",
       "      <td>NaN</td>\n",
       "      <td>NaN</td>\n",
       "      <td>0</td>\n",
       "      <td>2</td>\n",
       "      <td>2006</td>\n",
       "      <td>WD</td>\n",
       "      <td>Abnorml</td>\n",
       "      <td>140000</td>\n",
       "    </tr>\n",
       "    <tr>\n",
       "      <th>4</th>\n",
       "      <td>4</td>\n",
       "      <td>5</td>\n",
       "      <td>60</td>\n",
       "      <td>RL</td>\n",
       "      <td>84.0</td>\n",
       "      <td>14260</td>\n",
       "      <td>Pave</td>\n",
       "      <td>NaN</td>\n",
       "      <td>IR1</td>\n",
       "      <td>Lvl</td>\n",
       "      <td>...</td>\n",
       "      <td>0</td>\n",
       "      <td>NaN</td>\n",
       "      <td>NaN</td>\n",
       "      <td>NaN</td>\n",
       "      <td>0</td>\n",
       "      <td>12</td>\n",
       "      <td>2008</td>\n",
       "      <td>WD</td>\n",
       "      <td>Normal</td>\n",
       "      <td>250000</td>\n",
       "    </tr>\n",
       "  </tbody>\n",
       "</table>\n",
       "<p>5 rows × 82 columns</p>\n",
       "</div>"
      ],
      "text/plain": [
       "   Unnamed: 0  Id  MSSubClass MSZoning  LotFrontage  LotArea Street Alley  \\\n",
       "0           0   1          60       RL         65.0     8450   Pave   NaN   \n",
       "1           1   2          20       RL         80.0     9600   Pave   NaN   \n",
       "2           2   3          60       RL         68.0    11250   Pave   NaN   \n",
       "3           3   4          70       RL         60.0     9550   Pave   NaN   \n",
       "4           4   5          60       RL         84.0    14260   Pave   NaN   \n",
       "\n",
       "  LotShape LandContour  ... PoolArea PoolQC Fence MiscFeature MiscVal MoSold  \\\n",
       "0      Reg         Lvl  ...        0    NaN   NaN         NaN       0      2   \n",
       "1      Reg         Lvl  ...        0    NaN   NaN         NaN       0      5   \n",
       "2      IR1         Lvl  ...        0    NaN   NaN         NaN       0      9   \n",
       "3      IR1         Lvl  ...        0    NaN   NaN         NaN       0      2   \n",
       "4      IR1         Lvl  ...        0    NaN   NaN         NaN       0     12   \n",
       "\n",
       "  YrSold SaleType  SaleCondition  SalePrice  \n",
       "0   2008       WD         Normal     208500  \n",
       "1   2007       WD         Normal     181500  \n",
       "2   2008       WD         Normal     223500  \n",
       "3   2006       WD        Abnorml     140000  \n",
       "4   2008       WD         Normal     250000  \n",
       "\n",
       "[5 rows x 82 columns]"
      ]
     },
     "execution_count": 1,
     "metadata": {},
     "output_type": "execute_result"
    }
   ],
   "source": [
    "# Import Python libraries\n",
    "import pandas as pd\n",
    "import numpy as np\n",
    "import matplotlib.pyplot as plt\n",
    "import seaborn as sns\n",
    "from sklearn import linear_model\n",
    "\n",
    "# Import the Data\n",
    "data = pd.read_csv(\"houseSmallData.csv\")\n",
    "\n",
    "# Perform preliminary functions\n",
    "data.info()\n",
    "data.head()"
   ]
  },
  {
   "cell_type": "markdown",
   "metadata": {},
   "source": [
    "[Back to top](#Index)\n",
    "\n",
    "### 2.2 Data Exploration\n",
    "\n",
    "The training data is selected from the primary dataset using all rows and columns.\n",
    "\n",
    "Afterward, a *sale_price* target variable is created and described to show the main statistics of the sale price dependent variable."
   ]
  },
  {
   "cell_type": "code",
   "execution_count": 2,
   "metadata": {
    "scrolled": true
   },
   "outputs": [
    {
     "data": {
      "text/plain": [
       "count       100.000000\n",
       "mean     173820.660000\n",
       "std       72236.552886\n",
       "min       40000.000000\n",
       "25%      129362.500000\n",
       "50%      153750.000000\n",
       "75%      207750.000000\n",
       "max      438780.000000\n",
       "Name: SalePrice, dtype: float64"
      ]
     },
     "execution_count": 2,
     "metadata": {},
     "output_type": "execute_result"
    }
   ],
   "source": [
    "# Training data selection\n",
    "train = data.iloc[0:100,:]\n",
    "# Show the main statistics of the sale price dependent variable.\n",
    "sale_price = train['SalePrice']\n",
    "sale_price.describe()"
   ]
  },
  {
   "cell_type": "markdown",
   "metadata": {},
   "source": [
    "Then, a histogram gets plotted on the price to unveil the distribution."
   ]
  },
  {
   "cell_type": "code",
   "execution_count": 3,
   "metadata": {},
   "outputs": [
    {
     "data": {
      "text/plain": [
       "(array([ 2., 17., 35., 17., 11.,  8.,  5.,  3.,  1.,  1.]),\n",
       " array([ 40000.,  79878., 119756., 159634., 199512., 239390., 279268.,\n",
       "        319146., 359024., 398902., 438780.]),\n",
       " <BarContainer object of 10 artists>)"
      ]
     },
     "execution_count": 3,
     "metadata": {},
     "output_type": "execute_result"
    },
    {
     "data": {
      "image/png": "[encoded data removed]",
      "text/plain": [
       "<Figure size 640x480 with 1 Axes>"
      ]
     },
     "metadata": {},
     "output_type": "display_data"
    }
   ],
   "source": [
    "# Show histogram for dependent variable\n",
    "plt.hist(sale_price)"
   ]
  },
  {
   "cell_type": "markdown",
   "metadata": {},
   "source": [
    "Since the above histogram plot for the house price unveils a logarithmic distribution, a *log* transformation function gets applied to compress the range of values to bring the skewed distribution closer to a normal bell curve. It is crucial for many statistical methods, including linear regression, which assume normality in the data."
   ]
  },
  {
   "cell_type": "code",
   "execution_count": 4,
   "metadata": {},
   "outputs": [
    {
     "data": {
      "text/plain": [
       "(array([ 1.,  0.,  3.,  7., 21., 26., 18., 13.,  9.,  2.]),\n",
       " array([10.59663473, 10.8361466 , 11.07565847, 11.31517034, 11.55468221,\n",
       "        11.79419408, 12.03370595, 12.27321782, 12.51272969, 12.75224156,\n",
       "        12.99175343]),\n",
       " <BarContainer object of 10 artists>)"
      ]
     },
     "execution_count": 4,
     "metadata": {},
     "output_type": "execute_result"
    },
    {
     "data": {
      "image/png": "[encoded data removed]",
      "text/plain": [
       "<Figure size 640x480 with 1 Axes>"
      ]
     },
     "metadata": {},
     "output_type": "display_data"
    }
   ],
   "source": [
    "# Show histogram for dependent variable after applying the logarithmic transformation function\n",
    "plt.hist(np.log(sale_price))"
   ]
  },
  {
   "cell_type": "markdown",
   "metadata": {},
   "source": [
    "The log histogram above now shows a more normal distribution.\n",
    "\n",
    "Next, it calculates the degree of skewness of the default and the log sale price to denote the decrease in the measure of asymmetric distribution."
   ]
  },
  {
   "cell_type": "code",
   "execution_count": 5,
   "metadata": {},
   "outputs": [
    {
     "name": "stdout",
     "output_type": "stream",
     "text": [
      "1.1783462304851948 -0.09632240207755555\n"
     ]
    }
   ],
   "source": [
    "# Calculate level of default skewness  \n",
    "a = sale_price.skew()\n",
    "# Calculate level of transformed skewness  \n",
    "b = np.log(sale_price).skew()\n",
    "# Prints the values\n",
    "print(a, b)"
   ]
  },
  {
   "cell_type": "markdown",
   "metadata": {},
   "source": [
    "The second near-zero value indicates a shallow degree of skewness in the distribution, which means the distribution is almost perfectly symmetrical. A positive skew suggested that the tail was on the right side and extended toward the more significant positive values.\n",
    "\n",
    "Therefore, a target is created based on the new log sale_price and added to the *train* dataframe.\n"
   ]
  },
  {
   "cell_type": "code",
   "execution_count": 6,
   "metadata": {},
   "outputs": [],
   "source": [
    "# Create the target dependent variable for the linear regression\n",
    "target = np.log(sale_price)\n"
   ]
  },
  {
   "cell_type": "markdown",
   "metadata": {},
   "source": [
    "The model creates scatter plots to visualize the relationship between the new target and the dependent variable.\n",
    "\n",
    "The following input and output variables are first defined, containing a list of the columns to be analized.\n",
    "\n",
    "Then, it plots two figures using half the population in each one."
   ]
  },
  {
   "cell_type": "code",
   "execution_count": 7,
   "metadata": {},
   "outputs": [
    {
     "data": {
      "image/png": "[encoded data removed]",
      "text/plain": [
       "<Figure size 1250x250 with 5 Axes>"
      ]
     },
     "metadata": {},
     "output_type": "display_data"
    },
    {
     "data": {
      "image/png": "[encoded data removed]",
      "text/plain": [
       "<Figure size 1250x250 with 5 Axes>"
      ]
     },
     "metadata": {},
     "output_type": "display_data"
    }
   ],
   "source": [
    "# Create the variables for the scatter plot.\n",
    "input_scatter = ['OverallQual','GrLivArea','GarageArea','GarageCars','YearBuilt','TotalBsmtSF','GarageYrBlt','FullBath','MasVnrArea','TotRmsAbvGrd']\n",
    "output_scatter = ['SalePrice']\n",
    "\n",
    "# Create a scatter plot for the highest correlations.\n",
    "half = len(input_scatter)//2\n",
    "sns.set_style('darkgrid', {\"axes.facecolor\":\".8\"})\n",
    "fig1=sns.pairplot(train,\n",
    "                  x_vars=input_scatter[:half],\n",
    "                  y_vars = output_scatter)\n",
    "fig2=sns.pairplot(train,\n",
    "                  x_vars=input_scatter[half:],\n",
    "                  y_vars = output_scatter)\n"
   ]
  },
  {
   "cell_type": "markdown",
   "metadata": {},
   "source": [
    "All the above graphs show a positive correlation between the variables in descendant order.\n",
    "\n",
    "The code below plots the least correlated."
   ]
  },
  {
   "cell_type": "code",
   "execution_count": 8,
   "metadata": {},
   "outputs": [
    {
     "data": {
      "image/png": "[encoded data removed]",
      "text/plain": [
       "<Figure size 1250x250 with 5 Axes>"
      ]
     },
     "metadata": {},
     "output_type": "display_data"
    }
   ],
   "source": [
    "# Create scatter plots for the lowest correlations.\n",
    "input_scatter = ['YrSold','KitchenAbvGr','EnclosedPorch','OverallCond','LowQualFinSF']\n",
    "output_scatter = ['SalePrice']\n",
    "\n",
    "sns.set_style('darkgrid', {\"axes.facecolor\":\".5\"})\n",
    "fig1=sns.pairplot(train,\n",
    "                  x_vars=input_scatter,\n",
    "                  y_vars = output_scatter)"
   ]
  },
  {
   "cell_type": "markdown",
   "metadata": {},
   "source": [
    "The above plots show that YrSold (Year Sold) shows a small negative correlation, and that the other graphs do not show a clear relationship.\n",
    "\n",
    "\n",
    "- KitchenAbvGr: Kitchen above grade.\n",
    "- EnclosedPorch: Porch area in square feet.\n",
    "- OverallCond: Rates the overall condition of the house.\n",
    "- LowQualFinSF: Low quality finished square feet (all floors)."
   ]
  },
  {
   "cell_type": "markdown",
   "metadata": {},
   "source": [
    "[Back to top](#Index)\n",
    "\n",
    "### 2.3 Data Preparation"
   ]
  },
  {
   "cell_type": "markdown",
   "metadata": {},
   "source": [
    "It proceeds with identifying the missing values in each column that could impact the calculation."
   ]
  },
  {
   "cell_type": "code",
   "execution_count": 9,
   "metadata": {},
   "outputs": [
    {
     "data": {
      "text/html": [
       "<div>\n",
       "<style scoped>\n",
       "    .dataframe tbody tr th:only-of-type {\n",
       "        vertical-align: middle;\n",
       "    }\n",
       "\n",
       "    .dataframe tbody tr th {\n",
       "        vertical-align: top;\n",
       "    }\n",
       "\n",
       "    .dataframe thead th {\n",
       "        text-align: right;\n",
       "    }\n",
       "</style>\n",
       "<table border=\"1\" class=\"dataframe\">\n",
       "  <thead>\n",
       "    <tr style=\"text-align: right;\">\n",
       "      <th></th>\n",
       "      <th>0</th>\n",
       "    </tr>\n",
       "  </thead>\n",
       "  <tbody>\n",
       "    <tr>\n",
       "      <th>PoolQC</th>\n",
       "      <td>100</td>\n",
       "    </tr>\n",
       "    <tr>\n",
       "      <th>Alley</th>\n",
       "      <td>94</td>\n",
       "    </tr>\n",
       "    <tr>\n",
       "      <th>MiscFeature</th>\n",
       "      <td>91</td>\n",
       "    </tr>\n",
       "    <tr>\n",
       "      <th>Fence</th>\n",
       "      <td>77</td>\n",
       "    </tr>\n",
       "    <tr>\n",
       "      <th>MasVnrType</th>\n",
       "      <td>60</td>\n",
       "    </tr>\n",
       "    <tr>\n",
       "      <th>FireplaceQu</th>\n",
       "      <td>54</td>\n",
       "    </tr>\n",
       "    <tr>\n",
       "      <th>LotFrontage</th>\n",
       "      <td>14</td>\n",
       "    </tr>\n",
       "    <tr>\n",
       "      <th>GarageType</th>\n",
       "      <td>6</td>\n",
       "    </tr>\n",
       "    <tr>\n",
       "      <th>GarageYrBlt</th>\n",
       "      <td>6</td>\n",
       "    </tr>\n",
       "    <tr>\n",
       "      <th>GarageFinish</th>\n",
       "      <td>6</td>\n",
       "    </tr>\n",
       "    <tr>\n",
       "      <th>GarageQual</th>\n",
       "      <td>6</td>\n",
       "    </tr>\n",
       "    <tr>\n",
       "      <th>GarageCond</th>\n",
       "      <td>6</td>\n",
       "    </tr>\n",
       "    <tr>\n",
       "      <th>BsmtFinType1</th>\n",
       "      <td>3</td>\n",
       "    </tr>\n",
       "    <tr>\n",
       "      <th>BsmtQual</th>\n",
       "      <td>3</td>\n",
       "    </tr>\n",
       "    <tr>\n",
       "      <th>BsmtCond</th>\n",
       "      <td>3</td>\n",
       "    </tr>\n",
       "    <tr>\n",
       "      <th>BsmtExposure</th>\n",
       "      <td>3</td>\n",
       "    </tr>\n",
       "    <tr>\n",
       "      <th>BsmtFinType2</th>\n",
       "      <td>3</td>\n",
       "    </tr>\n",
       "    <tr>\n",
       "      <th>KitchenQual</th>\n",
       "      <td>0</td>\n",
       "    </tr>\n",
       "  </tbody>\n",
       "</table>\n",
       "</div>"
      ],
      "text/plain": [
       "                0\n",
       "PoolQC        100\n",
       "Alley          94\n",
       "MiscFeature    91\n",
       "Fence          77\n",
       "MasVnrType     60\n",
       "FireplaceQu    54\n",
       "LotFrontage    14\n",
       "GarageType      6\n",
       "GarageYrBlt     6\n",
       "GarageFinish    6\n",
       "GarageQual      6\n",
       "GarageCond      6\n",
       "BsmtFinType1    3\n",
       "BsmtQual        3\n",
       "BsmtCond        3\n",
       "BsmtExposure    3\n",
       "BsmtFinType2    3\n",
       "KitchenQual     0"
      ]
     },
     "execution_count": 9,
     "metadata": {},
     "output_type": "execute_result"
    }
   ],
   "source": [
    "#Creates a dataframe with the top columns with null values.\n",
    "nulls = pd.DataFrame(train.isnull().sum().sort_values(ascending=False)[0:18])\n",
    "nulls"
   ]
  },
  {
   "cell_type": "markdown",
   "metadata": {},
   "source": [
    "The following code performs interpolation and drops the numeric columns with missing values in the training dataset. It returns the count of such columns and the new shape of the data."
   ]
  },
  {
   "cell_type": "code",
   "execution_count": 10,
   "metadata": {},
   "outputs": [
    {
     "name": "stdout",
     "output_type": "stream",
     "text": [
      "0\n"
     ]
    },
    {
     "data": {
      "text/plain": [
       "(100, 39)"
      ]
     },
     "execution_count": 10,
     "metadata": {},
     "output_type": "execute_result"
    }
   ],
   "source": [
    "# Interpolates and/or drops the numeric columns within the train dataframe.\n",
    "data = train.select_dtypes(include=(np.number)).interpolate().dropna(axis = 1)\n",
    "# Returns the quantity of null values after the cleaning.\n",
    "null_check = sum(data.isnull().sum() !=0)\n",
    "print(null_check)\n",
    "# Returns the new remaining quantity of columns.\n",
    "data.shape"
   ]
  },
  {
   "cell_type": "markdown",
   "metadata": {},
   "source": [
    "[Back to top](#Index)\n",
    "\n",
    "### 2.4 Correlation\n",
    "\n",
    "Correlation measures the linear relationship between two variables. A strong positive correlation (near +1) suggests a potential linear relationship where one variable increases with the other. Similarly, a strong negative correlation (near -1) indicates a possible linear relationship where one variable decreases as the other increases.\n",
    "\n",
    "While correlation doesn't imply causation, it can guide toward which independent variables might be worth including in the model.\n",
    "\n",
    "The following code outputs the most correlated numeric columns with the 'SalePrice' column and their correlation coefficients. It prints the correlation coefficients (cols) and the column names (icols) that are used in the first model of three.\r\n"
   ]
  },
  {
   "cell_type": "code",
   "execution_count": 11,
   "metadata": {
    "scrolled": true
   },
   "outputs": [
    {
     "name": "stdout",
     "output_type": "stream",
     "text": [
      "SalePrice       1.000000\n",
      "OverallQual     0.855061\n",
      "GrLivArea       0.735129\n",
      "GarageArea      0.688249\n",
      "GarageCars      0.663441\n",
      "YearBuilt       0.658636\n",
      "TotalBsmtSF     0.616297\n",
      "GarageYrBlt     0.589361\n",
      "FullBath        0.579505\n",
      "MasVnrArea      0.571836\n",
      "TotRmsAbvGrd    0.553603\n",
      "Name: SalePrice, dtype: float64\n",
      "Index(['SalePrice', 'OverallQual', 'GrLivArea', 'GarageArea', 'GarageCars',\n",
      "       'YearBuilt', 'TotalBsmtSF', 'GarageYrBlt', 'FullBath', 'MasVnrArea',\n",
      "       'TotRmsAbvGrd'],\n",
      "      dtype='object')\n"
     ]
    }
   ],
   "source": [
    "# select only numeric columns.\n",
    "numeric = data.select_dtypes(include=[np.number])\n",
    "# calculate correlation factor.\n",
    "corr = numeric.corr()\n",
    "cols = corr['SalePrice'].sort_values(ascending=False)[0:11]\n",
    "# get the name of the columns.\n",
    "icols = cols.index\n",
    "print(cols)\n",
    "print(icols)"
   ]
  },
  {
   "cell_type": "markdown",
   "metadata": {},
   "source": [
    "\n",
    "[Back to top](#Index)\n",
    "\n",
    "## 3. Project Description\n",
    "\n",
    "This analysis aims to incorporate more correlated variables like TotalBsmtSF, GarageYrBlt, FullBath, MasVnrArea, and TotRmsAbvGrd to improve the prediction quality. Furthermore, it conducts a more integral analysis of the entire dataset by including non-numeric variables to ensure more potentially significant information gets noticed. \n",
    "\n",
    "Interestingly, despite this broader inclusion, the correlations with categorical variables did not surpass those achieved with the existing numeric variables.\n",
    "\n",
    "It led to selecting the top 11 numeric variables based on their correlation strength, suggesting a robust and data-driven approach to feature selection. This refined set of variablly offers improved prediction accuracy.\n"
   ]
  },
  {
   "cell_type": "markdown",
   "metadata": {},
   "source": [
    "[Back to top](#Index)\n",
    "\n",
    "### 3.1 Linear Regression\n",
    "\n",
    "The Housing Price Predictor project utilizes linear regression, a well-established machine learning algorithm, to estimate the market value of residential properties. This explanation dives into the mathematical and computational details of linear regression within the context of the project, providing an overview of the theory, derivation, formulas, and Python implementation.\n",
    "\n",
    "Theory and Derivation:\n",
    "\n",
    "Linear regression assumes a linear relationship between a dependent variable (house price in this case) and one or more independent variables (e.g., property size, location, etc.). The objective is to find a best-fitting line that captures this relationship. This line is represented by the equation:\n",
    "\n",
    "y = β₀ + β₁x₁ + β₂x₂ + ... + βₙxₙ + ε\n",
    "\n",
    "where:\n",
    "\n",
    "- y is the dependent variable (house price)\n",
    "- β₀ is the intercept (y-intercept of the line)\n",
    "- βᵢ are the coefficients associated with each independent variable xᵢ\n",
    "- ε is the error term, accounting for unexplained variations\n",
    "\n",
    "The derivation of the coefficients βᵢ involves minimizing the sum of squared errors (SSE) between the predicted values (based on the equation) and the actual house prices. Mathematically, this translates to:\n",
    "\n",
    "SSE = Σ(yᵢ - (β₀ + β₁x₁ᵢ + β₂x₂ᵢ + ... + βₙxₙᵢ))²\n",
    "\n",
    "Solving this minimization problem using least-squares techniques leads to a system of equations that determine the optimal values of β₀ and βᵢ.\n",
    "\n",
    "Steps in Python Implementation:\n",
    "\n",
    "**Data Preparation:**\n",
    "\n",
    "Load the dataset containing house price and relevant features.\n",
    "Clean and pre-process the data (e.g., handle missing values, encode categorical variables).\n",
    "Split the data into training and testing sets.\n",
    "\n",
    "**Model Training:**\n",
    "\n",
    "Import the linear regression library (e.g., sklearn.linear_model.LinearRegression).\n",
    "Instantiate the model and fit it on the training data.\n",
    "This process essentially solves the aforementioned system of equations, determining the optimal coefficients.\n",
    "\n",
    "**Evaluation:**\n",
    "\n",
    "Use the trained model to predict prices on the testing set.\n",
    "Calculate metrics like mean squared error (MSE) or coefficient of determination (R²) to assess the model's performance.\n",
    "Analyze the coefficients to understand which features have the strongest influence on price.\n",
    "\n",
    "**Hyperparameter Tuning (Optional):**\n",
    "\n",
    "Experiment with different hyperparameters (e.g., regularization) to potentially improve model performance.\n",
    "\n",
    "**Computational Details:**\n",
    "\n",
    "Linear regression typically uses efficient algorithms like Gaussian elimination or gradient descent to solve the minimization problem and find the optimal coefficients.\n",
    "Libraries like scikit-learn in Python provide optimized implementations of these algorithms, making linear regression readily accessible for practical applications.\n"
   ]
  },
  {
   "cell_type": "markdown",
   "metadata": {},
   "source": [
    "[Back to top](#Index)\n",
    "\n",
    "### 3.2 Analysis \n",
    "\n",
    "The model runs a linear regression algorithm on at least three different sets of independent variables in order to find the best results.\n",
    "\n"
   ]
  },
  {
   "cell_type": "markdown",
   "metadata": {},
   "source": [
    "\n",
    "**Model # 1**\n",
    "\n",
    "The first run includes the top 9 most correlated variables. The following code performs the linear regression by loading the X (relevant features) and Y (house price) variables and then running the sklearn lineal model."
   ]
  },
  {
   "cell_type": "code",
   "execution_count": 12,
   "metadata": {},
   "outputs": [
    {
     "data": {
      "text/html": [
       "<div>\n",
       "<style scoped>\n",
       "    .dataframe tbody tr th:only-of-type {\n",
       "        vertical-align: middle;\n",
       "    }\n",
       "\n",
       "    .dataframe tbody tr th {\n",
       "        vertical-align: top;\n",
       "    }\n",
       "\n",
       "    .dataframe thead th {\n",
       "        text-align: right;\n",
       "    }\n",
       "</style>\n",
       "<table border=\"1\" class=\"dataframe\">\n",
       "  <thead>\n",
       "    <tr style=\"text-align: right;\">\n",
       "      <th></th>\n",
       "      <th>OverallQual</th>\n",
       "      <th>GrLivArea</th>\n",
       "      <th>GarageArea</th>\n",
       "      <th>GarageCars</th>\n",
       "      <th>YearBuilt</th>\n",
       "      <th>TotalBsmtSF</th>\n",
       "      <th>GarageYrBlt</th>\n",
       "      <th>FullBath</th>\n",
       "      <th>MasVnrArea</th>\n",
       "      <th>TotRmsAbvGrd</th>\n",
       "    </tr>\n",
       "  </thead>\n",
       "  <tbody>\n",
       "    <tr>\n",
       "      <th>0</th>\n",
       "      <td>7</td>\n",
       "      <td>1710</td>\n",
       "      <td>548</td>\n",
       "      <td>2</td>\n",
       "      <td>2003</td>\n",
       "      <td>856</td>\n",
       "      <td>2003.0</td>\n",
       "      <td>2</td>\n",
       "      <td>196.0</td>\n",
       "      <td>8</td>\n",
       "    </tr>\n",
       "    <tr>\n",
       "      <th>1</th>\n",
       "      <td>6</td>\n",
       "      <td>1262</td>\n",
       "      <td>460</td>\n",
       "      <td>2</td>\n",
       "      <td>1976</td>\n",
       "      <td>1262</td>\n",
       "      <td>1976.0</td>\n",
       "      <td>2</td>\n",
       "      <td>0.0</td>\n",
       "      <td>6</td>\n",
       "    </tr>\n",
       "    <tr>\n",
       "      <th>2</th>\n",
       "      <td>7</td>\n",
       "      <td>1786</td>\n",
       "      <td>608</td>\n",
       "      <td>2</td>\n",
       "      <td>2001</td>\n",
       "      <td>920</td>\n",
       "      <td>2001.0</td>\n",
       "      <td>2</td>\n",
       "      <td>162.0</td>\n",
       "      <td>6</td>\n",
       "    </tr>\n",
       "    <tr>\n",
       "      <th>3</th>\n",
       "      <td>7</td>\n",
       "      <td>1717</td>\n",
       "      <td>642</td>\n",
       "      <td>3</td>\n",
       "      <td>1915</td>\n",
       "      <td>756</td>\n",
       "      <td>1998.0</td>\n",
       "      <td>1</td>\n",
       "      <td>0.0</td>\n",
       "      <td>7</td>\n",
       "    </tr>\n",
       "    <tr>\n",
       "      <th>4</th>\n",
       "      <td>8</td>\n",
       "      <td>2198</td>\n",
       "      <td>836</td>\n",
       "      <td>3</td>\n",
       "      <td>2000</td>\n",
       "      <td>1145</td>\n",
       "      <td>2000.0</td>\n",
       "      <td>2</td>\n",
       "      <td>350.0</td>\n",
       "      <td>9</td>\n",
       "    </tr>\n",
       "    <tr>\n",
       "      <th>...</th>\n",
       "      <td>...</td>\n",
       "      <td>...</td>\n",
       "      <td>...</td>\n",
       "      <td>...</td>\n",
       "      <td>...</td>\n",
       "      <td>...</td>\n",
       "      <td>...</td>\n",
       "      <td>...</td>\n",
       "      <td>...</td>\n",
       "      <td>...</td>\n",
       "    </tr>\n",
       "    <tr>\n",
       "      <th>95</th>\n",
       "      <td>6</td>\n",
       "      <td>1470</td>\n",
       "      <td>420</td>\n",
       "      <td>2</td>\n",
       "      <td>1993</td>\n",
       "      <td>680</td>\n",
       "      <td>1993.0</td>\n",
       "      <td>2</td>\n",
       "      <td>68.0</td>\n",
       "      <td>6</td>\n",
       "    </tr>\n",
       "    <tr>\n",
       "      <th>96</th>\n",
       "      <td>7</td>\n",
       "      <td>1588</td>\n",
       "      <td>472</td>\n",
       "      <td>2</td>\n",
       "      <td>1999</td>\n",
       "      <td>1588</td>\n",
       "      <td>1999.0</td>\n",
       "      <td>2</td>\n",
       "      <td>183.0</td>\n",
       "      <td>6</td>\n",
       "    </tr>\n",
       "    <tr>\n",
       "      <th>97</th>\n",
       "      <td>4</td>\n",
       "      <td>960</td>\n",
       "      <td>432</td>\n",
       "      <td>1</td>\n",
       "      <td>1965</td>\n",
       "      <td>960</td>\n",
       "      <td>1965.0</td>\n",
       "      <td>1</td>\n",
       "      <td>48.0</td>\n",
       "      <td>6</td>\n",
       "    </tr>\n",
       "    <tr>\n",
       "      <th>98</th>\n",
       "      <td>5</td>\n",
       "      <td>835</td>\n",
       "      <td>366</td>\n",
       "      <td>1</td>\n",
       "      <td>1920</td>\n",
       "      <td>458</td>\n",
       "      <td>1920.0</td>\n",
       "      <td>1</td>\n",
       "      <td>0.0</td>\n",
       "      <td>5</td>\n",
       "    </tr>\n",
       "    <tr>\n",
       "      <th>99</th>\n",
       "      <td>4</td>\n",
       "      <td>1225</td>\n",
       "      <td>0</td>\n",
       "      <td>0</td>\n",
       "      <td>1959</td>\n",
       "      <td>950</td>\n",
       "      <td>1920.0</td>\n",
       "      <td>1</td>\n",
       "      <td>0.0</td>\n",
       "      <td>6</td>\n",
       "    </tr>\n",
       "  </tbody>\n",
       "</table>\n",
       "<p>100 rows × 10 columns</p>\n",
       "</div>"
      ],
      "text/plain": [
       "    OverallQual  GrLivArea  GarageArea  GarageCars  YearBuilt  TotalBsmtSF  \\\n",
       "0             7       1710         548           2       2003          856   \n",
       "1             6       1262         460           2       1976         1262   \n",
       "2             7       1786         608           2       2001          920   \n",
       "3             7       1717         642           3       1915          756   \n",
       "4             8       2198         836           3       2000         1145   \n",
       "..          ...        ...         ...         ...        ...          ...   \n",
       "95            6       1470         420           2       1993          680   \n",
       "96            7       1588         472           2       1999         1588   \n",
       "97            4        960         432           1       1965          960   \n",
       "98            5        835         366           1       1920          458   \n",
       "99            4       1225           0           0       1959          950   \n",
       "\n",
       "    GarageYrBlt  FullBath  MasVnrArea  TotRmsAbvGrd  \n",
       "0        2003.0         2       196.0             8  \n",
       "1        1976.0         2         0.0             6  \n",
       "2        2001.0         2       162.0             6  \n",
       "3        1998.0         1         0.0             7  \n",
       "4        2000.0         2       350.0             9  \n",
       "..          ...       ...         ...           ...  \n",
       "95       1993.0         2        68.0             6  \n",
       "96       1999.0         2       183.0             6  \n",
       "97       1965.0         1        48.0             6  \n",
       "98       1920.0         1         0.0             5  \n",
       "99       1920.0         1         0.0             6  \n",
       "\n",
       "[100 rows x 10 columns]"
      ]
     },
     "execution_count": 12,
     "metadata": {},
     "output_type": "execute_result"
    }
   ],
   "source": [
    "# Pick out X cols and Y = SalePrice.\n",
    "X = data[icols]\n",
    "Y = data['SalePrice']\n",
    "# Removes SalePrice from X\n",
    "X = X.drop(['SalePrice'], axis = 1)\n",
    "X"
   ]
  },
  {
   "cell_type": "code",
   "execution_count": 13,
   "metadata": {},
   "outputs": [
    {
     "name": "stdout",
     "output_type": "stream",
     "text": [
      "R^2 is: 0.851735450635332\n"
     ]
    }
   ],
   "source": [
    "# Create the linear regression model.\n",
    "lr = linear_model.LinearRegression()\n",
    "# Fit the model to the training data.\n",
    "model = lr.fit(X,Y)\n",
    "# Make predictions on the training data.\n",
    "predictions = model.predict(X)\n",
    "score1 = model.score(X,Y)\n",
    "print(f\"R^2 is: {score1}\")"
   ]
  },
  {
   "cell_type": "markdown",
   "metadata": {},
   "source": [
    "Therefore, the independent variables included in X explain 85.17% of the price edge.\n",
    "\n",
    "Afterward, the model validates if the residuals (Y - predictions) unveil a normal distribution to confirm the underlying relationship is indeed linear by plotting it below:"
   ]
  },
  {
   "cell_type": "code",
   "execution_count": 14,
   "metadata": {},
   "outputs": [
    {
     "data": {
      "text/plain": [
       "(array([ 2.,  4.,  7., 22., 29., 18.,  9.,  5.,  2.,  2.]),\n",
       " array([-74711.30459464, -58456.46643905, -42201.62828345, -25946.79012786,\n",
       "         -9691.95197227,   6562.88618333,  22817.72433892,  39072.56249451,\n",
       "         55327.40065011,  71582.2388057 ,  87837.07696129]),\n",
       " <BarContainer object of 10 artists>)"
      ]
     },
     "execution_count": 14,
     "metadata": {},
     "output_type": "execute_result"
    },
    {
     "data": {
      "image/png": "[encoded data removed]",
      "text/plain": [
       "<Figure size 640x480 with 1 Axes>"
      ]
     },
     "metadata": {},
     "output_type": "display_data"
    }
   ],
   "source": [
    "# Plots a histogram for the residuals\n",
    "sns.set_style('darkgrid', {\"axes.facecolor\":\".5\"})\n",
    "plt.hist(Y - predictions,color = 'b')"
   ]
  },
  {
   "cell_type": "markdown",
   "metadata": {},
   "source": [
    "And also validates that the scatter plot follows a linear relationship, as shown below. It indeed shows a straight line."
   ]
  },
  {
   "cell_type": "code",
   "execution_count": 15,
   "metadata": {},
   "outputs": [
    {
     "data": {
      "text/plain": [
       "<matplotlib.collections.PathCollection at 0x21aae854810>"
      ]
     },
     "execution_count": 15,
     "metadata": {},
     "output_type": "execute_result"
    },
    {
     "data": {
      "image/png": "[encoded data removed]",
      "text/plain": [
       "<Figure size 640x480 with 1 Axes>"
      ]
     },
     "metadata": {},
     "output_type": "display_data"
    }
   ],
   "source": [
    "# Plots a scatter for the predictors and the target.\n",
    "plt.scatter(predictions, Y, color = 'b')"
   ]
  },
  {
   "cell_type": "markdown",
   "metadata": {},
   "source": [
    "**Model # 2**\n",
    "\n",
    "This time the correlation is performed again using all variables."
   ]
  },
  {
   "cell_type": "code",
   "execution_count": 16,
   "metadata": {},
   "outputs": [
    {
     "name": "stdout",
     "output_type": "stream",
     "text": [
      "SalePrice        1.000000\n",
      "OverallQual      0.855061\n",
      "GrLivArea        0.735129\n",
      "GarageArea       0.688249\n",
      "GarageCars       0.663441\n",
      "YearBuilt        0.658636\n",
      "TotalBsmtSF      0.616297\n",
      "GarageYrBlt      0.589361\n",
      "FullBath         0.579505\n",
      "MasVnrArea       0.571836\n",
      "TotRmsAbvGrd     0.553603\n",
      "1stFlrSF         0.550912\n",
      "YearRemodAdd     0.548330\n",
      "LotArea          0.497124\n",
      "Fireplaces       0.487907\n",
      "WoodDeckSF       0.451241\n",
      "2ndFlrSF         0.381076\n",
      "BsmtUnfSF        0.327020\n",
      "HalfBath         0.319304\n",
      "OpenPorchSF      0.301960\n",
      "LotFrontage      0.277853\n",
      "BsmtFinSF1       0.266713\n",
      "MoSold           0.256863\n",
      "BedroomAbvGr     0.233426\n",
      "BsmtFullBath     0.155689\n",
      "ScreenPorch      0.035930\n",
      "3SsnPorch       -0.019391\n",
      "BsmtHalfBath    -0.055100\n",
      "MSSubClass      -0.066819\n",
      "MiscVal         -0.134707\n",
      "BsmtFinSF2      -0.138126\n",
      "LowQualFinSF    -0.150027\n",
      "Id              -0.162735\n",
      "Unnamed: 0      -0.162735\n",
      "OverallCond     -0.170443\n",
      "EnclosedPorch   -0.233483\n",
      "KitchenAbvGr    -0.235659\n",
      "YrSold          -0.262683\n",
      "PoolArea              NaN\n",
      "Name: SalePrice, dtype: float64\n",
      "Index(['SalePrice', 'OverallQual', 'GrLivArea', 'GarageArea', 'GarageCars',\n",
      "       'YearBuilt', 'TotalBsmtSF', 'GarageYrBlt', 'FullBath', 'MasVnrArea',\n",
      "       'TotRmsAbvGrd', '1stFlrSF', 'YearRemodAdd', 'LotArea', 'Fireplaces',\n",
      "       'WoodDeckSF', '2ndFlrSF', 'BsmtUnfSF', 'HalfBath', 'OpenPorchSF',\n",
      "       'LotFrontage', 'BsmtFinSF1', 'MoSold', 'BedroomAbvGr', 'BsmtFullBath',\n",
      "       'ScreenPorch', '3SsnPorch', 'BsmtHalfBath', 'MSSubClass', 'MiscVal',\n",
      "       'BsmtFinSF2', 'LowQualFinSF', 'Id', 'Unnamed: 0', 'OverallCond',\n",
      "       'EnclosedPorch', 'KitchenAbvGr', 'YrSold', 'PoolArea'],\n",
      "      dtype='object')\n"
     ]
    }
   ],
   "source": [
    "# select only numeric columns.\n",
    "numeric = data.select_dtypes(include=[np.number])\n",
    "# calculate correlation factor.\n",
    "corr = numeric.corr()\n",
    "cols = corr['SalePrice'].sort_values(ascending=False)[0:40]\n",
    "# get the name of the columns.\n",
    "icols2 = cols.index\n",
    "print(cols)\n",
    "print(icols2)"
   ]
  },
  {
   "cell_type": "code",
   "execution_count": 17,
   "metadata": {},
   "outputs": [
    {
     "name": "stdout",
     "output_type": "stream",
     "text": [
      "R^2 is: 0.9040004793457496\n"
     ]
    }
   ],
   "source": [
    "# Pick out X cols and Y = SalePrice.\n",
    "X = data[icols2]\n",
    "Y = data['SalePrice']\n",
    "# Removes SalePrice from X\n",
    "X = X.drop(['SalePrice','SalePrice'], axis = 1)\n",
    "# Create the linear regression model.\n",
    "lr = linear_model.LinearRegression()\n",
    "# Fit the model to the training data.\n",
    "model = lr.fit(X,Y)\n",
    "# Make predictions on the training data.\n",
    "predictions = model.predict(X)\n",
    "score2 = model.score(X,Y)\n",
    "print(f\"R^2 is: {score2}\")"
   ]
  },
  {
   "cell_type": "code",
   "execution_count": 18,
   "metadata": {},
   "outputs": [
    {
     "data": {
      "text/plain": [
       "(array([ 1.,  0.,  1.,  6., 18., 31., 25., 12.,  4.,  2.]),\n",
       " array([-87683.41787982, -72568.2253319 , -57453.03278398, -42337.84023605,\n",
       "        -27222.64768813, -12107.45514021,   3007.73740771,  18122.92995563,\n",
       "         33238.12250355,  48353.31505147,  63468.50759939]),\n",
       " <BarContainer object of 10 artists>)"
      ]
     },
     "execution_count": 18,
     "metadata": {},
     "output_type": "execute_result"
    },
    {
     "data": {
      "image/png": "[encoded data removed]",
      "text/plain": [
       "<Figure size 640x480 with 1 Axes>"
      ]
     },
     "metadata": {},
     "output_type": "display_data"
    }
   ],
   "source": [
    "# Plots a histogram for the residuals\n",
    "plt.hist(Y - predictions,color = 'g')\n"
   ]
  },
  {
   "cell_type": "code",
   "execution_count": 19,
   "metadata": {},
   "outputs": [
    {
     "data": {
      "text/plain": [
       "<matplotlib.collections.PathCollection at 0x21aacbb1750>"
      ]
     },
     "execution_count": 19,
     "metadata": {},
     "output_type": "execute_result"
    },
    {
     "data": {
      "image/png": "[encoded data removed]",
      "text/plain": [
       "<Figure size 640x480 with 1 Axes>"
      ]
     },
     "metadata": {},
     "output_type": "display_data"
    }
   ],
   "source": [
    "# Plots a scatter for the predictors and the target.\n",
    "plt.scatter(predictions, Y, color = 'g')"
   ]
  },
  {
   "cell_type": "markdown",
   "metadata": {},
   "source": [
    "**Model # 3**\n",
    "\n",
    "In this case the categorical columns are included as numeric using one-hot encoding.\n"
   ]
  },
  {
   "cell_type": "code",
   "execution_count": 20,
   "metadata": {},
   "outputs": [
    {
     "name": "stdout",
     "output_type": "stream",
     "text": [
      "   Id  MSZoning_C (all)  MSZoning_FV  MSZoning_RL  MSZoning_RM  Street_Grvl  \\\n",
      "0   1                 0            0            1            0            0   \n",
      "1   2                 0            0            1            0            0   \n",
      "2   3                 0            0            1            0            0   \n",
      "3   4                 0            0            1            0            0   \n",
      "4   5                 0            0            1            0            0   \n",
      "\n",
      "   Street_Pave  LotShape_IR1  LotShape_IR2  LotShape_Reg  ...  PavedDrive_P  \\\n",
      "0            1             0             0             1  ...             0   \n",
      "1            1             0             0             1  ...             0   \n",
      "2            1             1             0             0  ...             0   \n",
      "3            1             1             0             0  ...             0   \n",
      "4            1             1             0             0  ...             0   \n",
      "\n",
      "   PavedDrive_Y  SaleType_COD  SaleType_ConLD  SaleType_New  SaleType_WD  \\\n",
      "0             1             0               0             0            1   \n",
      "1             1             0               0             0            1   \n",
      "2             1             0               0             0            1   \n",
      "3             1             0               0             0            1   \n",
      "4             1             0               0             0            1   \n",
      "\n",
      "   SaleCondition_Abnorml  SaleCondition_AdjLand  SaleCondition_Normal  \\\n",
      "0                      0                      0                     1   \n",
      "1                      0                      0                     1   \n",
      "2                      0                      0                     1   \n",
      "3                      1                      0                     0   \n",
      "4                      0                      0                     1   \n",
      "\n",
      "   SaleCondition_Partial  \n",
      "0                      0  \n",
      "1                      0  \n",
      "2                      0  \n",
      "3                      0  \n",
      "4                      0  \n",
      "\n",
      "[5 rows x 131 columns]\n"
     ]
    },
    {
     "data": {
      "text/plain": [
       "(100, 169)"
      ]
     },
     "execution_count": 20,
     "metadata": {},
     "output_type": "execute_result"
    }
   ],
   "source": [
    "# Select only categorical columns from train dataframe.\n",
    "categorical_columns = train.select_dtypes(include=['object', 'category']).dropna(axis = 1)\n",
    "# Add back the Id column to allow a inner merge on Id\n",
    "selected_columns = pd.concat([train['Id'], categorical_columns], axis=1)\n",
    "# Perform the transformation of  categorical values to binary\n",
    "one_hot_encoded_df = pd.get_dummies(selected_columns, columns=categorical_columns.columns,dtype=int)\n",
    "\n",
    "# Print the first few rows to verify the encoding\n",
    "print(one_hot_encoded_df.head())\n",
    "\n",
    "data3 = pd.merge(data,one_hot_encoded_df, on='Id',how='inner')\n",
    "data3.shape\n"
   ]
  },
  {
   "cell_type": "code",
   "execution_count": 21,
   "metadata": {},
   "outputs": [
    {
     "name": "stdout",
     "output_type": "stream",
     "text": [
      "SalePrice                1.000000\n",
      "OverallQual              0.855061\n",
      "GrLivArea                0.735129\n",
      "GarageArea               0.688249\n",
      "GarageCars               0.663441\n",
      "YearBuilt                0.658636\n",
      "TotalBsmtSF              0.616297\n",
      "GarageYrBlt              0.589361\n",
      "FullBath                 0.579505\n",
      "MasVnrArea               0.571836\n",
      "TotRmsAbvGrd             0.553603\n",
      "1stFlrSF                 0.550912\n",
      "YearRemodAdd             0.548330\n",
      "ExterQual_Gd             0.534426\n",
      "Neighborhood_NridgHt     0.531920\n",
      "KitchenQual_Gd           0.523343\n",
      "Foundation_PConc         0.510722\n",
      "HeatingQC_Ex             0.498890\n",
      "LotArea                  0.497124\n",
      "Fireplaces               0.487907\n",
      "WoodDeckSF               0.451241\n",
      "ExterQual_Ex             0.444999\n",
      "Exterior2nd_VinylSd      0.417298\n",
      "Exterior1st_VinylSd      0.417298\n",
      "2ndFlrSF                 0.381076\n",
      "Exterior1st_WdShing      0.379987\n",
      "MSZoning_RL              0.379984\n",
      "Neighborhood_StoneBr     0.370499\n",
      "CentralAir_Y             0.366800\n",
      "KitchenQual_Ex           0.343318\n",
      "SaleCondition_Partial    0.331180\n",
      "SaleType_New             0.331180\n",
      "BsmtUnfSF                0.327020\n",
      "HalfBath                 0.319304\n",
      "OpenPorchSF              0.301960\n",
      "LandContour_Low          0.295297\n",
      "RoofMatl_WdShngl         0.295297\n",
      "PavedDrive_Y             0.289971\n",
      "HouseStyle_2Story        0.279254\n",
      "ExterQual_TA            -0.658471\n",
      "KitchenQual_TA          -0.527989\n",
      "HeatingQC_TA            -0.414756\n",
      "CentralAir_N            -0.366800\n",
      "MSZoning_RM             -0.354476\n",
      "Foundation_BrkTil       -0.309571\n",
      "RoofMatl_CompShg        -0.295297\n",
      "PavedDrive_N            -0.282686\n",
      "YrSold                  -0.262683\n",
      "Foundation_CBlock       -0.255777\n",
      "KitchenQual_Fa          -0.254737\n",
      "Neighborhood_IDOTRR     -0.251332\n",
      "Exterior2nd_Wd Sdng     -0.247546\n",
      "KitchenAbvGr            -0.235659\n",
      "EnclosedPorch           -0.233483\n",
      "Exterior1st_Wd Sdng     -0.229511\n",
      "Condition1_Feedr        -0.227401\n",
      "ExterCond_Fa            -0.221260\n",
      "Neighborhood_OldTown    -0.219507\n",
      "Name: SalePrice, dtype: float64\n",
      "Index(['SalePrice', 'OverallQual', 'GrLivArea', 'GarageArea', 'GarageCars',\n",
      "       'YearBuilt', 'TotalBsmtSF', 'GarageYrBlt', 'FullBath', 'MasVnrArea',\n",
      "       'TotRmsAbvGrd', '1stFlrSF', 'YearRemodAdd', 'ExterQual_Gd',\n",
      "       'Neighborhood_NridgHt', 'KitchenQual_Gd', 'Foundation_PConc',\n",
      "       'HeatingQC_Ex', 'LotArea', 'Fireplaces', 'WoodDeckSF', 'ExterQual_Ex',\n",
      "       'Exterior2nd_VinylSd', 'Exterior1st_VinylSd', '2ndFlrSF',\n",
      "       'Exterior1st_WdShing', 'MSZoning_RL', 'Neighborhood_StoneBr',\n",
      "       'CentralAir_Y', 'KitchenQual_Ex', 'SaleCondition_Partial',\n",
      "       'SaleType_New', 'BsmtUnfSF', 'HalfBath', 'OpenPorchSF',\n",
      "       'LandContour_Low', 'RoofMatl_WdShngl', 'PavedDrive_Y',\n",
      "       'HouseStyle_2Story', 'ExterQual_TA', 'KitchenQual_TA', 'HeatingQC_TA',\n",
      "       'CentralAir_N', 'MSZoning_RM', 'Foundation_BrkTil', 'RoofMatl_CompShg',\n",
      "       'PavedDrive_N', 'YrSold', 'Foundation_CBlock', 'KitchenQual_Fa',\n",
      "       'Neighborhood_IDOTRR', 'Exterior2nd_Wd Sdng', 'KitchenAbvGr',\n",
      "       'EnclosedPorch', 'Exterior1st_Wd Sdng', 'Condition1_Feedr',\n",
      "       'ExterCond_Fa', 'Neighborhood_OldTown'],\n",
      "      dtype='object')\n"
     ]
    }
   ],
   "source": [
    "# select only numeric columns.\n",
    "numeric = data3.select_dtypes(include=[np.number])\n",
    "# calculate correlation factor.\n",
    "corr = numeric.corr()\n",
    "top_pos_corr = corr['SalePrice'].sort_values(ascending=False)[0:39]\n",
    "top_neg_corr = corr['SalePrice'].sort_values(ascending=True)[0:19]\n",
    "cols = pd.concat([top_pos_corr, top_neg_corr])\n",
    "#cols = corr['SalePrice'].sort_values(ascending=False)[0:50]\n",
    "# get the name of the columns.\n",
    "icols3 = cols.index\n",
    "print(cols)\n",
    "print(icols3)"
   ]
  },
  {
   "cell_type": "code",
   "execution_count": 22,
   "metadata": {},
   "outputs": [
    {
     "name": "stdout",
     "output_type": "stream",
     "text": [
      "R^2 is: 0.9598200438927337\n"
     ]
    }
   ],
   "source": [
    "# Pick out X cols and Y = SalePrice.\n",
    "X = data3[icols3]\n",
    "Y = data3['SalePrice']\n",
    "# Removes SalePrice from X\n",
    "X = X.drop(['SalePrice'], axis = 1)\n",
    "# Create the linear regression model.\n",
    "lr = linear_model.LinearRegression()\n",
    "# Fit the model to the training data.\n",
    "model = lr.fit(X,Y)\n",
    "# Make predictions on the training data.\n",
    "predictions = model.predict(X)\n",
    "score3 = model.score(X,Y)\n",
    "print(f\"R^2 is: {score3}\")"
   ]
  },
  {
   "cell_type": "code",
   "execution_count": 23,
   "metadata": {},
   "outputs": [
    {
     "data": {
      "text/plain": [
       "(array([ 2.,  1.,  4., 11., 38., 25., 11.,  7.,  0.,  1.]),\n",
       " array([-50181.25178171, -39920.58085021, -29659.90991872, -19399.23898722,\n",
       "         -9138.56805572,   1122.10287577,  11382.77380727,  21643.44473877,\n",
       "         31904.11567026,  42164.78660176,  52425.45753326]),\n",
       " <BarContainer object of 10 artists>)"
      ]
     },
     "execution_count": 23,
     "metadata": {},
     "output_type": "execute_result"
    },
    {
     "data": {
      "image/png": "[encoded data removed]",
      "text/plain": [
       "<Figure size 640x480 with 1 Axes>"
      ]
     },
     "metadata": {},
     "output_type": "display_data"
    }
   ],
   "source": [
    "# Plots a histogram for the residuals\n",
    "plt.hist(Y - predictions,color = 'y')\n"
   ]
  },
  {
   "cell_type": "code",
   "execution_count": 24,
   "metadata": {},
   "outputs": [
    {
     "data": {
      "text/plain": [
       "<matplotlib.collections.PathCollection at 0x21aaf24c810>"
      ]
     },
     "execution_count": 24,
     "metadata": {},
     "output_type": "execute_result"
    },
    {
     "data": {
      "image/png": "[encoded data removed]",
      "text/plain": [
       "<Figure size 640x480 with 1 Axes>"
      ]
     },
     "metadata": {},
     "output_type": "display_data"
    }
   ],
   "source": [
    "# Plots a scatter for the predictors and the target.\n",
    "plt.scatter(predictions, Y, color = 'y')"
   ]
  },
  {
   "cell_type": "markdown",
   "metadata": {},
   "source": [
    "[Back to top](#Index)\n",
    "\n",
    "### 3.3 Results\n",
    "\n"
   ]
  },
  {
   "cell_type": "markdown",
   "metadata": {},
   "source": [
    "**Run # 1**\n",
    "\n",
    "- R^2 = **85.17%** (proportion of price explained by chosen variables)\n",
    "- Based on the top 10 positively correlated variables for simplicity.\n",
    "\n",
    "**Run # 2**\n",
    "\n",
    "- R^2 = **90.40%** (proportion of price explained by chosen variables)\n",
    "- Based on the top 39 positively correlated variables after finding the quantification that maximized the score via trial and error.\n",
    "\n",
    "**Run # 3**\n",
    "\n",
    "- R^2 = **95.98%** (proportion of price explained by chosen variables)\n",
    "- Based on the top 38 positively correlated and bottom 18 negatively correlated variables after finding the quantify that contained valid values in the test dataset via trial and error, including categorical (one-hot).\n",
    "\n",
    "\n",
    "Expanding the analysis to categorical variables yielded stronger correlations than those observed with the original numeric variables."
   ]
  },
  {
   "cell_type": "markdown",
   "metadata": {},
   "source": [
    "[Back to top](#Index)\n",
    "\n",
    "### 3.4 Verify Your Model Against Test Data\n",
    "\n"
   ]
  },
  {
   "cell_type": "code",
   "execution_count": 25,
   "metadata": {},
   "outputs": [
    {
     "data": {
      "text/plain": [
       "<bound method NDFrame.head of     Unnamed: 0   Id  MSSubClass MSZoning  LotFrontage  LotArea Street Alley  \\\n",
       "0          100  101          20       RL          NaN    10603   Pave   NaN   \n",
       "1          101  102          60       RL         77.0     9206   Pave   NaN   \n",
       "2          102  103          90       RL         64.0     7018   Pave   NaN   \n",
       "3          103  104          20       RL         94.0    10402   Pave   NaN   \n",
       "4          104  105          50       RM          NaN     7758   Pave   NaN   \n",
       "..         ...  ...         ...      ...          ...      ...    ...   ...   \n",
       "95         195  196         160       RL         24.0     2280   Pave   NaN   \n",
       "96         196  197          20       RL         79.0     9416   Pave   NaN   \n",
       "97         197  198          75       RL        174.0    25419   Pave   NaN   \n",
       "98         198  199          75       RM         92.0     5520   Pave   NaN   \n",
       "99         199  200          20       RL         76.0     9591   Pave   NaN   \n",
       "\n",
       "   LotShape LandContour  ... PoolArea PoolQC  Fence MiscFeature MiscVal  \\\n",
       "0       IR1         Lvl  ...        0    NaN    NaN         NaN       0   \n",
       "1       Reg         Lvl  ...        0    NaN    NaN         NaN       0   \n",
       "2       Reg         Bnk  ...        0    NaN    NaN         NaN       0   \n",
       "3       IR1         Lvl  ...        0    NaN    NaN         NaN       0   \n",
       "4       Reg         Lvl  ...        0    NaN    NaN         NaN       0   \n",
       "..      ...         ...  ...      ...    ...    ...         ...     ...   \n",
       "95      Reg         Lvl  ...        0    NaN    NaN         NaN       0   \n",
       "96      Reg         Lvl  ...        0    NaN    NaN         NaN       0   \n",
       "97      Reg         Lvl  ...      512     Ex  GdPrv         NaN       0   \n",
       "98      Reg         Lvl  ...        0    NaN  MnPrv         NaN       0   \n",
       "99      Reg         Lvl  ...        0    NaN    NaN         NaN       0   \n",
       "\n",
       "   MoSold YrSold SaleType  SaleCondition  SalePrice  \n",
       "0       2   2010       WD         Normal     205000  \n",
       "1       6   2010       WD         Normal     178000  \n",
       "2       6   2009       WD         Alloca     118964  \n",
       "3       5   2010       WD         Normal     198900  \n",
       "4       6   2007       WD         Normal     169500  \n",
       "..    ...    ...      ...            ...        ...  \n",
       "95      7   2009       WD         Normal     148500  \n",
       "96      9   2007      New        Partial     311872  \n",
       "97      3   2006       WD        Abnorml     235000  \n",
       "98      7   2009       WD        Abnorml     104000  \n",
       "99      1   2009       WD         Normal     274900  \n",
       "\n",
       "[100 rows x 82 columns]>"
      ]
     },
     "execution_count": 25,
     "metadata": {},
     "output_type": "execute_result"
    }
   ],
   "source": [
    "# Load the test data\n",
    "test = pd.read_csv(\"jtest.csv\")\n",
    "test.shape\n",
    "test.head"
   ]
  },
  {
   "cell_type": "markdown",
   "metadata": {},
   "source": [
    "The following code performs interpolation and drops the numeric columns with missing values in the test dataset. It returns the count of such columns and the new shape of the data."
   ]
  },
  {
   "cell_type": "code",
   "execution_count": 26,
   "metadata": {},
   "outputs": [
    {
     "name": "stdout",
     "output_type": "stream",
     "text": [
      "0\n"
     ]
    },
    {
     "data": {
      "text/plain": [
       "(100, 38)"
      ]
     },
     "execution_count": 26,
     "metadata": {},
     "output_type": "execute_result"
    }
   ],
   "source": [
    "# Interpolates and/or drops the numeric columns within the train dataframe.\n",
    "clean_test = test.select_dtypes(include=(np.number)).interpolate().dropna(axis = 1)\n",
    "# Returns the quantity of null values after the cleaning.\n",
    "null_check = sum(data.isnull().sum() !=0)\n",
    "print(null_check)\n",
    "# Returns the new remaining quantity of columns.\n",
    "clean_test.shape"
   ]
  },
  {
   "cell_type": "code",
   "execution_count": 27,
   "metadata": {},
   "outputs": [
    {
     "name": "stdout",
     "output_type": "stream",
     "text": [
      "    Id  MSZoning_FV  MSZoning_RL  MSZoning_RM  Street_Pave  LotShape_IR1  \\\n",
      "0  101            0            1            0            1             1   \n",
      "1  102            0            1            0            1             0   \n",
      "2  103            0            1            0            1             0   \n",
      "3  104            0            1            0            1             1   \n",
      "4  105            0            0            1            1             0   \n",
      "\n",
      "   LotShape_IR2  LotShape_Reg  LandContour_Bnk  LandContour_HLS  ...  \\\n",
      "0             0             0                0                0  ...   \n",
      "1             0             1                0                0  ...   \n",
      "2             0             1                1                0  ...   \n",
      "3             0             0                0                0  ...   \n",
      "4             0             1                0                0  ...   \n",
      "\n",
      "   PavedDrive_Y  SaleType_COD  SaleType_ConLI  SaleType_New  SaleType_WD  \\\n",
      "0             1             0               0             0            1   \n",
      "1             1             0               0             0            1   \n",
      "2             1             0               0             0            1   \n",
      "3             1             0               0             0            1   \n",
      "4             1             0               0             0            1   \n",
      "\n",
      "   SaleCondition_Abnorml  SaleCondition_Alloca  SaleCondition_Family  \\\n",
      "0                      0                     0                     0   \n",
      "1                      0                     0                     0   \n",
      "2                      0                     1                     0   \n",
      "3                      0                     0                     0   \n",
      "4                      0                     0                     0   \n",
      "\n",
      "   SaleCondition_Normal  SaleCondition_Partial  \n",
      "0                     1                      0  \n",
      "1                     1                      0  \n",
      "2                     0                      0  \n",
      "3                     1                      0  \n",
      "4                     1                      0  \n",
      "\n",
      "[5 rows x 132 columns]\n"
     ]
    },
    {
     "data": {
      "text/plain": [
       "(100, 169)"
      ]
     },
     "execution_count": 27,
     "metadata": {},
     "output_type": "execute_result"
    }
   ],
   "source": [
    "# Select only categorical columns from train dataframe.\n",
    "categorical_columns = test.select_dtypes(include=['object', 'category']).dropna(axis = 1)\n",
    "# Add back the Id column to allow a inner merge on Id\n",
    "selected_columns = pd.concat([test['Id'], categorical_columns], axis=1)\n",
    "# Perform the transformation of  categorical values to binary\n",
    "one_hot_encoded_df = pd.get_dummies(selected_columns, columns=categorical_columns.columns,dtype=int)\n",
    "\n",
    "# Print the first few rows to verify the encoding\n",
    "print(one_hot_encoded_df.head())\n",
    "\n",
    "hot_test = pd.merge(clean_test,one_hot_encoded_df, on='Id',how='inner')\n",
    "hot_test.shape"
   ]
  },
  {
   "cell_type": "code",
   "execution_count": 28,
   "metadata": {},
   "outputs": [
    {
     "name": "stdout",
     "output_type": "stream",
     "text": [
      "R^2 is: 0.9615357659951853\n"
     ]
    }
   ],
   "source": [
    "# Pick out X cols and Y = SalePrice.\n",
    "X = hot_test[icols3]\n",
    "Y = X['SalePrice']\n",
    "# Removes SalePrice from X\n",
    "X = X.drop(['SalePrice'], axis = 1)\n",
    "\n",
    "# Create the linear regression model.\n",
    "lr = linear_model.LinearRegression()\n",
    "# Fit the model to the training data.\n",
    "model = lr.fit(X,Y)\n",
    "# Make predictions on the training data.\n",
    "predictions = model.predict(X)\n",
    "print(f\"R^2 is: {model.score(X,Y)}\")"
   ]
  },
  {
   "cell_type": "code",
   "execution_count": 29,
   "metadata": {},
   "outputs": [
    {
     "data": {
      "text/plain": [
       "(array([ 2.,  1.,  7.,  8., 37., 22., 14.,  6.,  1.,  2.]),\n",
       " array([-48910.48634232, -39080.8957369 , -29251.30513147, -19421.71452604,\n",
       "         -9592.12392062,    237.46668481,  10067.05729024,  19896.64789566,\n",
       "         29726.23850109,  39555.82910652,  49385.41971194]),\n",
       " <BarContainer object of 10 artists>)"
      ]
     },
     "execution_count": 29,
     "metadata": {},
     "output_type": "execute_result"
    },
    {
     "data": {
      "image/png": "[encoded data removed]",
      "text/plain": [
       "<Figure size 640x480 with 1 Axes>"
      ]
     },
     "metadata": {},
     "output_type": "display_data"
    }
   ],
   "source": [
    "# Plots a histogram for the residuals\n",
    "sns.set_style('whitegrid')\n",
    "\n",
    "plt.hist(Y - predictions,color = 'navy')\n"
   ]
  },
  {
   "cell_type": "code",
   "execution_count": 30,
   "metadata": {},
   "outputs": [
    {
     "data": {
      "text/plain": [
       "<matplotlib.collections.PathCollection at 0x21aaf356510>"
      ]
     },
     "execution_count": 30,
     "metadata": {},
     "output_type": "execute_result"
    },
    {
     "data": {
      "image/png": "[encoded data removed]",
      "text/plain": [
       "<Figure size 640x480 with 1 Axes>"
      ]
     },
     "metadata": {},
     "output_type": "display_data"
    }
   ],
   "source": [
    "# Plots a scatter for the predictors and the target.\n",
    "plt.scatter(predictions, Y, color = 'navy')"
   ]
  },
  {
   "cell_type": "markdown",
   "metadata": {
    "jp-MarkdownHeadingCollapsed": true
   },
   "source": [
    "[Back to top](#Index)\n",
    "\n",
    "## Conclusion\n",
    "\n",
    "The best result was after converting the categorical columns to numeric using one-hot encoding and including the top positive and negative correlations, which scored 96.2%.\n",
    "\n",
    "The main issue was to select only features that were not going to have NaN values in the real/test data so the linear regression functions could find them. It is essential to know that linear regression cannot work with NaN values.\n"
   ]
  },
  {
   "cell_type": "markdown",
   "metadata": {},
   "source": [
    "\n",
    "[Back to top](#Index\n",
    ")\n",
    "## References\n",
    "\n",
    "- \"API reference\". pandas. Accessed on 2024-02-24. https://pandas.pydata.org/pandas-docs/stable/reference\n",
    "\n",
    "- \"Pandas Cheat Sheet\". pandas. Accessed on 2024-02-24. https://pandas.pydata.org/Pandas_Cheat_Sheet.pdf\n"
   ]
  },
  {
   "cell_type": "code",
   "execution_count": null,
   "metadata": {},
   "outputs": [],
   "source": []
  }
 ],
 "metadata": {
  "kernelspec": {
   "display_name": "Python 3 (ipykernel)",
   "language": "python",
   "name": "python3"
  },
  "language_info": {
   "codemirror_mode": {
    "name": "ipython",
    "version": 3
   },
   "file_extension": ".py",
   "mimetype": "text/x-python",
   "name": "python",
   "nbconvert_exporter": "python",
   "pygments_lexer": "ipython3",
   "version": "3.11.7"
  }
 },
 "nbformat": 4,
 "nbformat_minor": 4
}
